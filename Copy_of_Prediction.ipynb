{
  "nbformat": 4,
  "nbformat_minor": 0,
  "metadata": {
    "colab": {
      "name": "Copy of Prediction.ipynb",
      "version": "0.3.2",
      "provenance": [],
      "include_colab_link": true
    },
    "language_info": {
      "codemirror_mode": {
        "name": "ipython",
        "version": 3
      },
      "file_extension": ".py",
      "mimetype": "text/x-python",
      "name": "python",
      "nbconvert_exporter": "python",
      "pygments_lexer": "ipython3",
      "version": "3.7.3"
    },
    "kernelspec": {
      "display_name": "Python 3",
      "language": "python",
      "name": "python3"
    }
  },
  "cells": [
    {
      "cell_type": "markdown",
      "metadata": {
        "id": "view-in-github",
        "colab_type": "text"
      },
      "source": [
        "<a href=\"https://colab.research.google.com/github/rmcelfresh/IST718FinalProject/blob/master/Copy_of_Prediction.ipynb\" target=\"_parent\"><img src=\"https://colab.research.google.com/assets/colab-badge.svg\" alt=\"Open In Colab\"/></a>"
      ]
    },
    {
      "cell_type": "code",
      "metadata": {
        "id": "fLFk0fG6ujGh",
        "colab_type": "code",
        "outputId": "cff062a7-6c2a-46c7-a8c5-2c5e5c7439de",
        "colab": {
          "base_uri": "https://localhost:8080/",
          "height": 436
        }
      },
      "source": [
        "!pip3 uninstall statsmodels\n",
        "!pip3 install numpy scipy patsy pandas\n",
        "!pip3 install statsmodels\n"
      ],
      "execution_count": 1,
      "outputs": [
        {
          "output_type": "stream",
          "text": [
            "Uninstalling statsmodels-0.9.0:\n",
            "  Would remove:\n",
            "    /usr/local/lib/python3.6/dist-packages/statsmodels-0.9.0.dist-info/*\n",
            "    /usr/local/lib/python3.6/dist-packages/statsmodels/*\n",
            "Proceed (y/n)? y\n",
            "  Successfully uninstalled statsmodels-0.9.0\n",
            "Requirement already satisfied: numpy in /usr/local/lib/python3.6/dist-packages (1.16.4)\n",
            "Requirement already satisfied: scipy in /usr/local/lib/python3.6/dist-packages (1.3.0)\n",
            "Requirement already satisfied: patsy in /usr/local/lib/python3.6/dist-packages (0.5.1)\n",
            "Requirement already satisfied: pandas in /usr/local/lib/python3.6/dist-packages (0.24.2)\n",
            "Requirement already satisfied: six in /usr/local/lib/python3.6/dist-packages (from patsy) (1.12.0)\n",
            "Requirement already satisfied: pytz>=2011k in /usr/local/lib/python3.6/dist-packages (from pandas) (2018.9)\n",
            "Requirement already satisfied: python-dateutil>=2.5.0 in /usr/local/lib/python3.6/dist-packages (from pandas) (2.5.3)\n",
            "Collecting statsmodels\n",
            "\u001b[?25l  Downloading https://files.pythonhosted.org/packages/85/d1/69ee7e757f657e7f527cbf500ec2d295396e5bcec873cf4eb68962c41024/statsmodels-0.9.0-cp36-cp36m-manylinux1_x86_64.whl (7.4MB)\n",
            "\u001b[K     |████████████████████████████████| 7.4MB 4.9MB/s \n",
            "\u001b[?25hRequirement already satisfied: pandas in /usr/local/lib/python3.6/dist-packages (from statsmodels) (0.24.2)\n",
            "Requirement already satisfied: patsy in /usr/local/lib/python3.6/dist-packages (from statsmodels) (0.5.1)\n",
            "Requirement already satisfied: pytz>=2011k in /usr/local/lib/python3.6/dist-packages (from pandas->statsmodels) (2018.9)\n",
            "Requirement already satisfied: python-dateutil>=2.5.0 in /usr/local/lib/python3.6/dist-packages (from pandas->statsmodels) (2.5.3)\n",
            "Requirement already satisfied: numpy>=1.12.0 in /usr/local/lib/python3.6/dist-packages (from pandas->statsmodels) (1.16.4)\n",
            "Requirement already satisfied: six in /usr/local/lib/python3.6/dist-packages (from patsy->statsmodels) (1.12.0)\n",
            "Installing collected packages: statsmodels\n",
            "Successfully installed statsmodels-0.9.0\n"
          ],
          "name": "stdout"
        }
      ]
    },
    {
      "cell_type": "code",
      "metadata": {
        "id": "bjrMKQPYeVbL",
        "colab_type": "code",
        "colab": {
          "base_uri": "https://localhost:8080/",
          "height": 116
        },
        "outputId": "0ffa1f4c-2e16-414c-b7a5-56c1350fdf88"
      },
      "source": [
        "!git clone https://github.com/rmcelfresh/IST718FinalProject/"
      ],
      "execution_count": 2,
      "outputs": [
        {
          "output_type": "stream",
          "text": [
            "Cloning into 'IST718FinalProject'...\n",
            "remote: Enumerating objects: 18, done.\u001b[K\n",
            "remote: Counting objects: 100% (18/18), done.\u001b[K\n",
            "remote: Compressing objects: 100% (18/18), done.\u001b[K\n",
            "remote: Total 18 (delta 8), reused 0 (delta 0), pack-reused 0\u001b[K\n",
            "Unpacking objects: 100% (18/18), done.\n"
          ],
          "name": "stdout"
        }
      ]
    },
    {
      "cell_type": "code",
      "metadata": {
        "id": "eOv9178as6Gt",
        "colab_type": "code",
        "outputId": "99114ada-a13d-43c3-a1a3-54a6361a1ddf",
        "colab": {
          "base_uri": "https://localhost:8080/",
          "height": 203
        }
      },
      "source": [
        "# import packages for analysis and modeling\n",
        "import pandas as pd  # data frame operations\n",
        "!python3.6 -m pip install scipy==1.2 --upgrade\n",
        "\n",
        "from statsmodels.sandbox.regression.predstd import wls_prediction_std\n",
        "import numpy as np  # arrays and math functions\n",
        "from scipy.stats import uniform  # for training-and-test split\n",
        "import statsmodels.api as sm  # statistical models (including regression)\n",
        "import statsmodels.formula.api as smf  # R-like model specification\n",
        "import matplotlib.pyplot as plt  # 2D plotting\n",
        "\n",
        "import seaborn as sns  # PROVIDES TRELLIS AND SMALL MULTIPLE PLOTTING\n",
        "%matplotlib inline"
      ],
      "execution_count": 3,
      "outputs": [
        {
          "output_type": "stream",
          "text": [
            "Collecting scipy==1.2\n",
            "\u001b[?25l  Downloading https://files.pythonhosted.org/packages/67/e6/6d4edaceee6a110ecf6f318482f5229792f143e468b34a631f5a0899f56d/scipy-1.2.0-cp36-cp36m-manylinux1_x86_64.whl (26.6MB)\n",
            "\u001b[K     |████████████████████████████████| 26.6MB 58.7MB/s \n",
            "\u001b[?25hRequirement already satisfied, skipping upgrade: numpy>=1.8.2 in /usr/local/lib/python3.6/dist-packages (from scipy==1.2) (1.16.4)\n",
            "\u001b[31mERROR: albumentations 0.1.12 has requirement imgaug<0.2.7,>=0.2.5, but you'll have imgaug 0.2.9 which is incompatible.\u001b[0m\n",
            "Installing collected packages: scipy\n",
            "  Found existing installation: scipy 1.3.0\n",
            "    Uninstalling scipy-1.3.0:\n",
            "      Successfully uninstalled scipy-1.3.0\n",
            "Successfully installed scipy-1.2.0\n"
          ],
          "name": "stdout"
        }
      ]
    },
    {
      "cell_type": "code",
      "metadata": {
        "id": "DQHUFFXbs6Gw",
        "colab_type": "code",
        "outputId": "af967612-8154-49fe-d74c-97998c5382c3",
        "colab": {
          "base_uri": "https://localhost:8080/",
          "height": 401
        }
      },
      "source": [
        "missing_values = [\"n/a\", \"na\", \"--\"]\n",
        "twitter_polarity = pd.read_csv(\"IST718FinalProject/reviews_Polarity.csv\", na_values = missing_values)\n",
        "twitter_polarity.head()"
      ],
      "execution_count": 4,
      "outputs": [
        {
          "output_type": "execute_result",
          "data": {
            "text/html": [
              "<div>\n",
              "<style scoped>\n",
              "    .dataframe tbody tr th:only-of-type {\n",
              "        vertical-align: middle;\n",
              "    }\n",
              "\n",
              "    .dataframe tbody tr th {\n",
              "        vertical-align: top;\n",
              "    }\n",
              "\n",
              "    .dataframe thead th {\n",
              "        text-align: right;\n",
              "    }\n",
              "</style>\n",
              "<table border=\"1\" class=\"dataframe\">\n",
              "  <thead>\n",
              "    <tr style=\"text-align: right;\">\n",
              "      <th></th>\n",
              "      <th>Unnamed: 0</th>\n",
              "      <th>Movie</th>\n",
              "      <th>id</th>\n",
              "      <th>created_at</th>\n",
              "      <th>source</th>\n",
              "      <th>original_text</th>\n",
              "      <th>clean_text</th>\n",
              "      <th>sentiment</th>\n",
              "      <th>polarity</th>\n",
              "      <th>subjectivity</th>\n",
              "      <th>FileName</th>\n",
              "    </tr>\n",
              "  </thead>\n",
              "  <tbody>\n",
              "    <tr>\n",
              "      <th>0</th>\n",
              "      <td>40</td>\n",
              "      <td>AgeofUltron</td>\n",
              "      <td>1.13203E+18</td>\n",
              "      <td>Fri May 24 21:01:14 +0000 2019</td>\n",
              "      <td>&lt;a href=\"http://twitter.com/download/android\" ...</td>\n",
              "      <td>Avengers will return.\\n#Avengers\\n#AvengersAge...</td>\n",
              "      <td>return AvengersAgeOfUltron</td>\n",
              "      <td>Sentiment(polarity=0.0, subjectivity=0.0)</td>\n",
              "      <td>0.0000</td>\n",
              "      <td>0.0</td>\n",
              "      <td>AgeofUltron_data</td>\n",
              "    </tr>\n",
              "    <tr>\n",
              "      <th>1</th>\n",
              "      <td>41</td>\n",
              "      <td>AgeofUltron</td>\n",
              "      <td>1.13202E+18</td>\n",
              "      <td>Fri May 24 20:35:11 +0000 2019</td>\n",
              "      <td>&lt;a href=\"http://twitter.com/download/android\" ...</td>\n",
              "      <td>\"Fury, you son of a bitch\"\\n\"Ooh, you kiss you...</td>\n",
              "      <td>Fury son bitch   Ooh kiss mother mouth  lAnGu...</td>\n",
              "      <td>Sentiment(polarity=0.0, subjectivity=0.0)</td>\n",
              "      <td>-0.6908</td>\n",
              "      <td>0.0</td>\n",
              "      <td>AgeofUltron_data</td>\n",
              "    </tr>\n",
              "    <tr>\n",
              "      <th>2</th>\n",
              "      <td>42</td>\n",
              "      <td>AgeofUltron</td>\n",
              "      <td>1.13202E+18</td>\n",
              "      <td>Fri May 24 20:32:47 +0000 2019</td>\n",
              "      <td>&lt;a href=\"http://twitter.com/download/android\" ...</td>\n",
              "      <td>fuRy YoU sOn Of A BitCh  #AvengersAgeOfUltron</td>\n",
              "      <td>fuRy YoU sOn Of A BitCh AvengersAgeOfUltron</td>\n",
              "      <td>Sentiment(polarity=0.0, subjectivity=0.0)</td>\n",
              "      <td>-0.8176</td>\n",
              "      <td>0.0</td>\n",
              "      <td>AgeofUltron_data</td>\n",
              "    </tr>\n",
              "    <tr>\n",
              "      <th>3</th>\n",
              "      <td>43</td>\n",
              "      <td>AgeofUltron</td>\n",
              "      <td>1.13201E+18</td>\n",
              "      <td>Fri May 24 19:59:56 +0000 2019</td>\n",
              "      <td>&lt;a href=\"http://twitter.com/download/android\" ...</td>\n",
              "      <td>RT @Marvel_Informer: Who else got goosebumps f...</td>\n",
              "      <td>Marvel_Informer Who else got goosebumps lines...</td>\n",
              "      <td>Sentiment(polarity=0.0, subjectivity=0.0)</td>\n",
              "      <td>0.0000</td>\n",
              "      <td>0.0</td>\n",
              "      <td>AgeofUltron_data</td>\n",
              "    </tr>\n",
              "    <tr>\n",
              "      <th>4</th>\n",
              "      <td>44</td>\n",
              "      <td>AgeofUltron</td>\n",
              "      <td>1.13201E+18</td>\n",
              "      <td>Fri May 24 19:32:13 +0000 2019</td>\n",
              "      <td>&lt;a href=\"http://twitter.com/download/iphone\" r...</td>\n",
              "      <td>RT @Marvel_Informer: Who else got goosebumps f...</td>\n",
              "      <td>Marvel_Informer Who else got goosebumps lines...</td>\n",
              "      <td>Sentiment(polarity=0.0, subjectivity=0.0)</td>\n",
              "      <td>0.0000</td>\n",
              "      <td>0.0</td>\n",
              "      <td>AgeofUltron_data</td>\n",
              "    </tr>\n",
              "  </tbody>\n",
              "</table>\n",
              "</div>"
            ],
            "text/plain": [
              "   Unnamed: 0        Movie  ... subjectivity          FileName\n",
              "0          40  AgeofUltron  ...          0.0  AgeofUltron_data\n",
              "1          41  AgeofUltron  ...          0.0  AgeofUltron_data\n",
              "2          42  AgeofUltron  ...          0.0  AgeofUltron_data\n",
              "3          43  AgeofUltron  ...          0.0  AgeofUltron_data\n",
              "4          44  AgeofUltron  ...          0.0  AgeofUltron_data\n",
              "\n",
              "[5 rows x 11 columns]"
            ]
          },
          "metadata": {
            "tags": []
          },
          "execution_count": 4
        }
      ]
    },
    {
      "cell_type": "code",
      "metadata": {
        "id": "Kk_d_a90bw2Y",
        "colab_type": "code",
        "colab": {
          "base_uri": "https://localhost:8080/",
          "height": 97
        },
        "outputId": "4c477849-7f2f-4ce0-a318-febcaf4c49e4"
      },
      "source": [
        "pd.pivot_table(twitter_polarity, values='polarity', columns='Movie', aggfunc='mean', fill_value=None, margins=False, dropna=True, margins_name='All')"
      ],
      "execution_count": 5,
      "outputs": [
        {
          "output_type": "execute_result",
          "data": {
            "text/html": [
              "<div>\n",
              "<style scoped>\n",
              "    .dataframe tbody tr th:only-of-type {\n",
              "        vertical-align: middle;\n",
              "    }\n",
              "\n",
              "    .dataframe tbody tr th {\n",
              "        vertical-align: top;\n",
              "    }\n",
              "\n",
              "    .dataframe thead th {\n",
              "        text-align: right;\n",
              "    }\n",
              "</style>\n",
              "<table border=\"1\" class=\"dataframe\">\n",
              "  <thead>\n",
              "    <tr style=\"text-align: right;\">\n",
              "      <th>Movie</th>\n",
              "      <th>AgeofUltron</th>\n",
              "      <th>Antman</th>\n",
              "      <th>Antmanthewasp</th>\n",
              "      <th>Aquaman</th>\n",
              "      <th>AvengersEndgame</th>\n",
              "      <th>AvengersInfinityWar</th>\n",
              "      <th>BlackPanther</th>\n",
              "      <th>CivilWar</th>\n",
              "      <th>DawnofJustice</th>\n",
              "      <th>DoctorStrange</th>\n",
              "      <th>GuardiansoftheGalaxy</th>\n",
              "      <th>JusticeLeague</th>\n",
              "      <th>RogueOne</th>\n",
              "      <th>Shazam</th>\n",
              "      <th>Solo</th>\n",
              "      <th>SpidermanFarfromhome</th>\n",
              "      <th>SpidermanHomecoming</th>\n",
              "      <th>SuicideSquad</th>\n",
              "      <th>TheForceAwakens</th>\n",
              "      <th>TheLastJedi</th>\n",
              "      <th>ThorRagnarok</th>\n",
              "      <th>WonderWoman</th>\n",
              "    </tr>\n",
              "  </thead>\n",
              "  <tbody>\n",
              "    <tr>\n",
              "      <th>polarity</th>\n",
              "      <td>0.145708</td>\n",
              "      <td>-0.026944</td>\n",
              "      <td>0.131781</td>\n",
              "      <td>0.182843</td>\n",
              "      <td>0.089621</td>\n",
              "      <td>0.139388</td>\n",
              "      <td>0.203379</td>\n",
              "      <td>0.015877</td>\n",
              "      <td>0.304407</td>\n",
              "      <td>0.161916</td>\n",
              "      <td>0.24203</td>\n",
              "      <td>0.247213</td>\n",
              "      <td>0.051062</td>\n",
              "      <td>0.240115</td>\n",
              "      <td>0.3114</td>\n",
              "      <td>0.159506</td>\n",
              "      <td>0.159455</td>\n",
              "      <td>0.039568</td>\n",
              "      <td>0.235119</td>\n",
              "      <td>0.147334</td>\n",
              "      <td>0.167975</td>\n",
              "      <td>0.245941</td>\n",
              "    </tr>\n",
              "  </tbody>\n",
              "</table>\n",
              "</div>"
            ],
            "text/plain": [
              "Movie     AgeofUltron    Antman  ...  ThorRagnarok  WonderWoman\n",
              "polarity     0.145708 -0.026944  ...      0.167975     0.245941\n",
              "\n",
              "[1 rows x 22 columns]"
            ]
          },
          "metadata": {
            "tags": []
          },
          "execution_count": 5
        }
      ]
    },
    {
      "cell_type": "code",
      "metadata": {
        "id": "8yNPDcMSs6G0",
        "colab_type": "code",
        "outputId": "013ef8aa-f709-44af-f91f-bad240cfebdb",
        "colab": {
          "base_uri": "https://localhost:8080/",
          "height": 197
        }
      },
      "source": [
        "missing_values = [\"n/a\", \"na\", \"--\"]\n",
        "RT_polarity = pd.read_csv(\"IST718FinalProject/rotten_reviews_Polarity.csv\", na_values = missing_values)\n",
        "RT_polarity.head()"
      ],
      "execution_count": 6,
      "outputs": [
        {
          "output_type": "execute_result",
          "data": {
            "text/html": [
              "<div>\n",
              "<style scoped>\n",
              "    .dataframe tbody tr th:only-of-type {\n",
              "        vertical-align: middle;\n",
              "    }\n",
              "\n",
              "    .dataframe tbody tr th {\n",
              "        vertical-align: top;\n",
              "    }\n",
              "\n",
              "    .dataframe thead th {\n",
              "        text-align: right;\n",
              "    }\n",
              "</style>\n",
              "<table border=\"1\" class=\"dataframe\">\n",
              "  <thead>\n",
              "    <tr style=\"text-align: right;\">\n",
              "      <th></th>\n",
              "      <th>Unnamed: 0</th>\n",
              "      <th>Movie</th>\n",
              "      <th>FileName</th>\n",
              "      <th>Field_1</th>\n",
              "      <th>text</th>\n",
              "      <th>polarity</th>\n",
              "    </tr>\n",
              "  </thead>\n",
              "  <tbody>\n",
              "    <tr>\n",
              "      <th>0</th>\n",
              "      <td>0</td>\n",
              "      <td>AgeofUltron</td>\n",
              "      <td>AgeofUltron_rm</td>\n",
              "      <td>0</td>\n",
              "      <td>Fans of the franchise will be pleased, but tho...</td>\n",
              "      <td>0.2382</td>\n",
              "    </tr>\n",
              "    <tr>\n",
              "      <th>1</th>\n",
              "      <td>1</td>\n",
              "      <td>AgeofUltron</td>\n",
              "      <td>AgeofUltron_rm</td>\n",
              "      <td>1</td>\n",
              "      <td>\"Avengers: Age of Ultron\" is a sometimes daffy...</td>\n",
              "      <td>0.8813</td>\n",
              "    </tr>\n",
              "    <tr>\n",
              "      <th>2</th>\n",
              "      <td>2</td>\n",
              "      <td>AgeofUltron</td>\n",
              "      <td>AgeofUltron_rm</td>\n",
              "      <td>2</td>\n",
              "      <td>More does not necessarily equal better; here, ...</td>\n",
              "      <td>-0.4031</td>\n",
              "    </tr>\n",
              "    <tr>\n",
              "      <th>3</th>\n",
              "      <td>3</td>\n",
              "      <td>AgeofUltron</td>\n",
              "      <td>AgeofUltron_rm</td>\n",
              "      <td>3</td>\n",
              "      <td>The sharp, interpersonal dramedy that made the...</td>\n",
              "      <td>-0.1655</td>\n",
              "    </tr>\n",
              "    <tr>\n",
              "      <th>4</th>\n",
              "      <td>4</td>\n",
              "      <td>AgeofUltron</td>\n",
              "      <td>AgeofUltron_rm</td>\n",
              "      <td>4</td>\n",
              "      <td>For the most part, \"Avengers: Age of Ultron\" i...</td>\n",
              "      <td>0.0000</td>\n",
              "    </tr>\n",
              "  </tbody>\n",
              "</table>\n",
              "</div>"
            ],
            "text/plain": [
              "   Unnamed: 0  ... polarity\n",
              "0           0  ...   0.2382\n",
              "1           1  ...   0.8813\n",
              "2           2  ...  -0.4031\n",
              "3           3  ...  -0.1655\n",
              "4           4  ...   0.0000\n",
              "\n",
              "[5 rows x 6 columns]"
            ]
          },
          "metadata": {
            "tags": []
          },
          "execution_count": 6
        }
      ]
    },
    {
      "cell_type": "code",
      "metadata": {
        "id": "T1VPMDr3s6G2",
        "colab_type": "code",
        "outputId": "170cd0a9-2b0b-4de6-a86d-78cc388a4cfe",
        "colab": {
          "base_uri": "https://localhost:8080/",
          "height": 707
        }
      },
      "source": [
        "t_polarity = twitter_polarity.groupby(['Movie'])['polarity'].mean()\n",
        "t_polarity = pd.DataFrame(t_polarity)\n",
        "t_polarity = t_polarity.reset_index(drop=False)\n",
        "t_polarity"
      ],
      "execution_count": 7,
      "outputs": [
        {
          "output_type": "execute_result",
          "data": {
            "text/html": [
              "<div>\n",
              "<style scoped>\n",
              "    .dataframe tbody tr th:only-of-type {\n",
              "        vertical-align: middle;\n",
              "    }\n",
              "\n",
              "    .dataframe tbody tr th {\n",
              "        vertical-align: top;\n",
              "    }\n",
              "\n",
              "    .dataframe thead th {\n",
              "        text-align: right;\n",
              "    }\n",
              "</style>\n",
              "<table border=\"1\" class=\"dataframe\">\n",
              "  <thead>\n",
              "    <tr style=\"text-align: right;\">\n",
              "      <th></th>\n",
              "      <th>Movie</th>\n",
              "      <th>polarity</th>\n",
              "    </tr>\n",
              "  </thead>\n",
              "  <tbody>\n",
              "    <tr>\n",
              "      <th>0</th>\n",
              "      <td>AgeofUltron</td>\n",
              "      <td>0.145708</td>\n",
              "    </tr>\n",
              "    <tr>\n",
              "      <th>1</th>\n",
              "      <td>Antman</td>\n",
              "      <td>-0.026944</td>\n",
              "    </tr>\n",
              "    <tr>\n",
              "      <th>2</th>\n",
              "      <td>Antmanthewasp</td>\n",
              "      <td>0.131781</td>\n",
              "    </tr>\n",
              "    <tr>\n",
              "      <th>3</th>\n",
              "      <td>Aquaman</td>\n",
              "      <td>0.182843</td>\n",
              "    </tr>\n",
              "    <tr>\n",
              "      <th>4</th>\n",
              "      <td>AvengersEndgame</td>\n",
              "      <td>0.089621</td>\n",
              "    </tr>\n",
              "    <tr>\n",
              "      <th>5</th>\n",
              "      <td>AvengersInfinityWar</td>\n",
              "      <td>0.139388</td>\n",
              "    </tr>\n",
              "    <tr>\n",
              "      <th>6</th>\n",
              "      <td>BlackPanther</td>\n",
              "      <td>0.203379</td>\n",
              "    </tr>\n",
              "    <tr>\n",
              "      <th>7</th>\n",
              "      <td>CivilWar</td>\n",
              "      <td>0.015877</td>\n",
              "    </tr>\n",
              "    <tr>\n",
              "      <th>8</th>\n",
              "      <td>DawnofJustice</td>\n",
              "      <td>0.304407</td>\n",
              "    </tr>\n",
              "    <tr>\n",
              "      <th>9</th>\n",
              "      <td>DoctorStrange</td>\n",
              "      <td>0.161916</td>\n",
              "    </tr>\n",
              "    <tr>\n",
              "      <th>10</th>\n",
              "      <td>GuardiansoftheGalaxy</td>\n",
              "      <td>0.242030</td>\n",
              "    </tr>\n",
              "    <tr>\n",
              "      <th>11</th>\n",
              "      <td>JusticeLeague</td>\n",
              "      <td>0.247213</td>\n",
              "    </tr>\n",
              "    <tr>\n",
              "      <th>12</th>\n",
              "      <td>RogueOne</td>\n",
              "      <td>0.051062</td>\n",
              "    </tr>\n",
              "    <tr>\n",
              "      <th>13</th>\n",
              "      <td>Shazam</td>\n",
              "      <td>0.240115</td>\n",
              "    </tr>\n",
              "    <tr>\n",
              "      <th>14</th>\n",
              "      <td>Solo</td>\n",
              "      <td>0.311400</td>\n",
              "    </tr>\n",
              "    <tr>\n",
              "      <th>15</th>\n",
              "      <td>SpidermanFarfromhome</td>\n",
              "      <td>0.159506</td>\n",
              "    </tr>\n",
              "    <tr>\n",
              "      <th>16</th>\n",
              "      <td>SpidermanHomecoming</td>\n",
              "      <td>0.159455</td>\n",
              "    </tr>\n",
              "    <tr>\n",
              "      <th>17</th>\n",
              "      <td>SuicideSquad</td>\n",
              "      <td>0.039568</td>\n",
              "    </tr>\n",
              "    <tr>\n",
              "      <th>18</th>\n",
              "      <td>TheForceAwakens</td>\n",
              "      <td>0.235119</td>\n",
              "    </tr>\n",
              "    <tr>\n",
              "      <th>19</th>\n",
              "      <td>TheLastJedi</td>\n",
              "      <td>0.147334</td>\n",
              "    </tr>\n",
              "    <tr>\n",
              "      <th>20</th>\n",
              "      <td>ThorRagnarok</td>\n",
              "      <td>0.167975</td>\n",
              "    </tr>\n",
              "    <tr>\n",
              "      <th>21</th>\n",
              "      <td>WonderWoman</td>\n",
              "      <td>0.245941</td>\n",
              "    </tr>\n",
              "  </tbody>\n",
              "</table>\n",
              "</div>"
            ],
            "text/plain": [
              "                   Movie  polarity\n",
              "0            AgeofUltron  0.145708\n",
              "1                 Antman -0.026944\n",
              "2          Antmanthewasp  0.131781\n",
              "3                Aquaman  0.182843\n",
              "4        AvengersEndgame  0.089621\n",
              "5    AvengersInfinityWar  0.139388\n",
              "6           BlackPanther  0.203379\n",
              "7               CivilWar  0.015877\n",
              "8          DawnofJustice  0.304407\n",
              "9          DoctorStrange  0.161916\n",
              "10  GuardiansoftheGalaxy  0.242030\n",
              "11         JusticeLeague  0.247213\n",
              "12              RogueOne  0.051062\n",
              "13                Shazam  0.240115\n",
              "14                  Solo  0.311400\n",
              "15  SpidermanFarfromhome  0.159506\n",
              "16   SpidermanHomecoming  0.159455\n",
              "17          SuicideSquad  0.039568\n",
              "18       TheForceAwakens  0.235119\n",
              "19           TheLastJedi  0.147334\n",
              "20          ThorRagnarok  0.167975\n",
              "21           WonderWoman  0.245941"
            ]
          },
          "metadata": {
            "tags": []
          },
          "execution_count": 7
        }
      ]
    },
    {
      "cell_type": "code",
      "metadata": {
        "id": "zTLbQ9OXel1r",
        "colab_type": "code",
        "colab": {}
      },
      "source": [
        ""
      ],
      "execution_count": 0,
      "outputs": []
    },
    {
      "cell_type": "code",
      "metadata": {
        "id": "sWfyDeeOs6G5",
        "colab_type": "code",
        "outputId": "362c26d1-ccc4-4aaa-c4c0-d285cbcb3252",
        "colab": {
          "base_uri": "https://localhost:8080/",
          "height": 677
        }
      },
      "source": [
        "RT_polarity = RT_polarity.groupby(['Movie'])['polarity'].mean()\n",
        "RT_polarity = pd.DataFrame(RT_polarity)\n",
        "RT_polarity = RT_polarity.reset_index(drop=False)\n",
        "RT_polarity"
      ],
      "execution_count": 8,
      "outputs": [
        {
          "output_type": "execute_result",
          "data": {
            "text/html": [
              "<div>\n",
              "<style scoped>\n",
              "    .dataframe tbody tr th:only-of-type {\n",
              "        vertical-align: middle;\n",
              "    }\n",
              "\n",
              "    .dataframe tbody tr th {\n",
              "        vertical-align: top;\n",
              "    }\n",
              "\n",
              "    .dataframe thead th {\n",
              "        text-align: right;\n",
              "    }\n",
              "</style>\n",
              "<table border=\"1\" class=\"dataframe\">\n",
              "  <thead>\n",
              "    <tr style=\"text-align: right;\">\n",
              "      <th></th>\n",
              "      <th>Movie</th>\n",
              "      <th>polarity</th>\n",
              "    </tr>\n",
              "  </thead>\n",
              "  <tbody>\n",
              "    <tr>\n",
              "      <th>0</th>\n",
              "      <td>AgeofUltron</td>\n",
              "      <td>0.325920</td>\n",
              "    </tr>\n",
              "    <tr>\n",
              "      <th>1</th>\n",
              "      <td>Antman</td>\n",
              "      <td>0.447856</td>\n",
              "    </tr>\n",
              "    <tr>\n",
              "      <th>2</th>\n",
              "      <td>Antmanthewasp</td>\n",
              "      <td>0.483780</td>\n",
              "    </tr>\n",
              "    <tr>\n",
              "      <th>3</th>\n",
              "      <td>Aquaman</td>\n",
              "      <td>0.323176</td>\n",
              "    </tr>\n",
              "    <tr>\n",
              "      <th>4</th>\n",
              "      <td>AvengersEndgame</td>\n",
              "      <td>0.464424</td>\n",
              "    </tr>\n",
              "    <tr>\n",
              "      <th>5</th>\n",
              "      <td>AvengersInfinityWar</td>\n",
              "      <td>0.155448</td>\n",
              "    </tr>\n",
              "    <tr>\n",
              "      <th>6</th>\n",
              "      <td>BlackPanther</td>\n",
              "      <td>0.441759</td>\n",
              "    </tr>\n",
              "    <tr>\n",
              "      <th>7</th>\n",
              "      <td>CivilWar</td>\n",
              "      <td>0.267807</td>\n",
              "    </tr>\n",
              "    <tr>\n",
              "      <th>8</th>\n",
              "      <td>DawnofJustice</td>\n",
              "      <td>0.090210</td>\n",
              "    </tr>\n",
              "    <tr>\n",
              "      <th>9</th>\n",
              "      <td>DoctorStrange</td>\n",
              "      <td>0.379982</td>\n",
              "    </tr>\n",
              "    <tr>\n",
              "      <th>10</th>\n",
              "      <td>GuardiansoftheGalaxy</td>\n",
              "      <td>0.461389</td>\n",
              "    </tr>\n",
              "    <tr>\n",
              "      <th>11</th>\n",
              "      <td>JusticeLeague</td>\n",
              "      <td>0.304520</td>\n",
              "    </tr>\n",
              "    <tr>\n",
              "      <th>12</th>\n",
              "      <td>RogueOne</td>\n",
              "      <td>0.139188</td>\n",
              "    </tr>\n",
              "    <tr>\n",
              "      <th>13</th>\n",
              "      <td>Shazam</td>\n",
              "      <td>0.503318</td>\n",
              "    </tr>\n",
              "    <tr>\n",
              "      <th>14</th>\n",
              "      <td>Solo</td>\n",
              "      <td>0.183288</td>\n",
              "    </tr>\n",
              "    <tr>\n",
              "      <th>15</th>\n",
              "      <td>SpidermanHomecoming</td>\n",
              "      <td>0.470029</td>\n",
              "    </tr>\n",
              "    <tr>\n",
              "      <th>16</th>\n",
              "      <td>SuicideSquad</td>\n",
              "      <td>-0.120457</td>\n",
              "    </tr>\n",
              "    <tr>\n",
              "      <th>17</th>\n",
              "      <td>TheForceAwakens</td>\n",
              "      <td>0.343998</td>\n",
              "    </tr>\n",
              "    <tr>\n",
              "      <th>18</th>\n",
              "      <td>TheLastJedi</td>\n",
              "      <td>0.271214</td>\n",
              "    </tr>\n",
              "    <tr>\n",
              "      <th>19</th>\n",
              "      <td>ThorRagnarok</td>\n",
              "      <td>0.461304</td>\n",
              "    </tr>\n",
              "    <tr>\n",
              "      <th>20</th>\n",
              "      <td>WonderWoman</td>\n",
              "      <td>0.460269</td>\n",
              "    </tr>\n",
              "  </tbody>\n",
              "</table>\n",
              "</div>"
            ],
            "text/plain": [
              "                   Movie  polarity\n",
              "0            AgeofUltron  0.325920\n",
              "1                 Antman  0.447856\n",
              "2          Antmanthewasp  0.483780\n",
              "3                Aquaman  0.323176\n",
              "4        AvengersEndgame  0.464424\n",
              "5    AvengersInfinityWar  0.155448\n",
              "6           BlackPanther  0.441759\n",
              "7               CivilWar  0.267807\n",
              "8          DawnofJustice  0.090210\n",
              "9          DoctorStrange  0.379982\n",
              "10  GuardiansoftheGalaxy  0.461389\n",
              "11         JusticeLeague  0.304520\n",
              "12              RogueOne  0.139188\n",
              "13                Shazam  0.503318\n",
              "14                  Solo  0.183288\n",
              "15   SpidermanHomecoming  0.470029\n",
              "16          SuicideSquad -0.120457\n",
              "17       TheForceAwakens  0.343998\n",
              "18           TheLastJedi  0.271214\n",
              "19          ThorRagnarok  0.461304\n",
              "20           WonderWoman  0.460269"
            ]
          },
          "metadata": {
            "tags": []
          },
          "execution_count": 8
        }
      ]
    },
    {
      "cell_type": "code",
      "metadata": {
        "id": "bYPdV22ls6G7",
        "colab_type": "code",
        "outputId": "76bb69e9-dc5b-4e1d-df80-58d5296364d0",
        "colab": {
          "base_uri": "https://localhost:8080/",
          "height": 197
        }
      },
      "source": [
        "missing_values = [\"n/a\", \"na\", \"--\"]\n",
        "BudgetAndResults = pd.read_csv(\"IST718FinalProject/BudgetAndResults.csv\", na_values = missing_values, encoding = \"ISO-8859-1\")\n",
        "BudgetAndResults.head()"
      ],
      "execution_count": 9,
      "outputs": [
        {
          "output_type": "execute_result",
          "data": {
            "text/html": [
              "<div>\n",
              "<style scoped>\n",
              "    .dataframe tbody tr th:only-of-type {\n",
              "        vertical-align: middle;\n",
              "    }\n",
              "\n",
              "    .dataframe tbody tr th {\n",
              "        vertical-align: top;\n",
              "    }\n",
              "\n",
              "    .dataframe thead th {\n",
              "        text-align: right;\n",
              "    }\n",
              "</style>\n",
              "<table border=\"1\" class=\"dataframe\">\n",
              "  <thead>\n",
              "    <tr style=\"text-align: right;\">\n",
              "      <th></th>\n",
              "      <th>FullMovieName</th>\n",
              "      <th>Month</th>\n",
              "      <th>Day</th>\n",
              "      <th>Year</th>\n",
              "      <th>Budget</th>\n",
              "      <th>Domestic Gross</th>\n",
              "      <th>Worldwide Gross</th>\n",
              "      <th>Universe</th>\n",
              "      <th>Movie</th>\n",
              "    </tr>\n",
              "  </thead>\n",
              "  <tbody>\n",
              "    <tr>\n",
              "      <th>0</th>\n",
              "      <td>Avengers: Age of Ultron</td>\n",
              "      <td>May</td>\n",
              "      <td>1</td>\n",
              "      <td>2015</td>\n",
              "      <td>495000000</td>\n",
              "      <td>459005868</td>\n",
              "      <td>1405403694</td>\n",
              "      <td>MCU</td>\n",
              "      <td>AgeofUltron</td>\n",
              "    </tr>\n",
              "    <tr>\n",
              "      <th>1</th>\n",
              "      <td>Ant-man</td>\n",
              "      <td>June</td>\n",
              "      <td>29</td>\n",
              "      <td>2015</td>\n",
              "      <td>160000000</td>\n",
              "      <td>180202163</td>\n",
              "      <td>519311965</td>\n",
              "      <td>MCU</td>\n",
              "      <td>Antman</td>\n",
              "    </tr>\n",
              "    <tr>\n",
              "      <th>2</th>\n",
              "      <td>Aquaman</td>\n",
              "      <td>Dec</td>\n",
              "      <td>21</td>\n",
              "      <td>2018</td>\n",
              "      <td>180000000</td>\n",
              "      <td>335061807</td>\n",
              "      <td>1147761807</td>\n",
              "      <td>MCU</td>\n",
              "      <td>Antman</td>\n",
              "    </tr>\n",
              "    <tr>\n",
              "      <th>3</th>\n",
              "      <td>Ant-man and the wasp</td>\n",
              "      <td>July</td>\n",
              "      <td>6</td>\n",
              "      <td>2018</td>\n",
              "      <td>162000000</td>\n",
              "      <td>216648740</td>\n",
              "      <td>622674139</td>\n",
              "      <td>MCU</td>\n",
              "      <td>Antmanthewasp</td>\n",
              "    </tr>\n",
              "    <tr>\n",
              "      <th>4</th>\n",
              "      <td>Avengers Endgame</td>\n",
              "      <td>Apr</td>\n",
              "      <td>26</td>\n",
              "      <td>2019</td>\n",
              "      <td>365000000</td>\n",
              "      <td>827811359</td>\n",
              "      <td>2734786099</td>\n",
              "      <td>MCU</td>\n",
              "      <td>AvengersEndgame</td>\n",
              "    </tr>\n",
              "  </tbody>\n",
              "</table>\n",
              "</div>"
            ],
            "text/plain": [
              "             FullMovieName Month  ...  Universe            Movie\n",
              "0  Avengers: Age of Ultron   May  ...       MCU      AgeofUltron\n",
              "1                  Ant-man  June  ...       MCU           Antman\n",
              "2                  Aquaman   Dec  ...       MCU           Antman\n",
              "3     Ant-man and the wasp  July  ...       MCU    Antmanthewasp\n",
              "4         Avengers Endgame   Apr  ...       MCU  AvengersEndgame\n",
              "\n",
              "[5 rows x 9 columns]"
            ]
          },
          "metadata": {
            "tags": []
          },
          "execution_count": 9
        }
      ]
    },
    {
      "cell_type": "code",
      "metadata": {
        "id": "szTfEqKZfZ4W",
        "colab_type": "code",
        "colab": {}
      },
      "source": [
        "finalDF = pd.merge(left=BudgetAndResults, right = RT_polarity, how='left', left_on='Movie', right_on='Movie')\n",
        "finalDF = pd.merge(left=finalDF, right = t_polarity, how='left', left_on='Movie', right_on='Movie')\n"
      ],
      "execution_count": 0,
      "outputs": []
    },
    {
      "cell_type": "code",
      "metadata": {
        "id": "R_nXWsa6fyuj",
        "colab_type": "code",
        "colab": {
          "base_uri": "https://localhost:8080/",
          "height": 914
        },
        "outputId": "f1868ff9-8fd5-41a6-d8d0-95d8d620b95f"
      },
      "source": [
        "finalDF"
      ],
      "execution_count": 11,
      "outputs": [
        {
          "output_type": "execute_result",
          "data": {
            "text/html": [
              "<div>\n",
              "<style scoped>\n",
              "    .dataframe tbody tr th:only-of-type {\n",
              "        vertical-align: middle;\n",
              "    }\n",
              "\n",
              "    .dataframe tbody tr th {\n",
              "        vertical-align: top;\n",
              "    }\n",
              "\n",
              "    .dataframe thead th {\n",
              "        text-align: right;\n",
              "    }\n",
              "</style>\n",
              "<table border=\"1\" class=\"dataframe\">\n",
              "  <thead>\n",
              "    <tr style=\"text-align: right;\">\n",
              "      <th></th>\n",
              "      <th>FullMovieName</th>\n",
              "      <th>Month</th>\n",
              "      <th>Day</th>\n",
              "      <th>Year</th>\n",
              "      <th>Budget</th>\n",
              "      <th>Domestic Gross</th>\n",
              "      <th>Worldwide Gross</th>\n",
              "      <th>Universe</th>\n",
              "      <th>Movie</th>\n",
              "      <th>polarity_x</th>\n",
              "      <th>polarity_y</th>\n",
              "    </tr>\n",
              "  </thead>\n",
              "  <tbody>\n",
              "    <tr>\n",
              "      <th>0</th>\n",
              "      <td>Avengers: Age of Ultron</td>\n",
              "      <td>May</td>\n",
              "      <td>1</td>\n",
              "      <td>2015</td>\n",
              "      <td>495000000</td>\n",
              "      <td>459005868</td>\n",
              "      <td>1405403694</td>\n",
              "      <td>MCU</td>\n",
              "      <td>AgeofUltron</td>\n",
              "      <td>0.325920</td>\n",
              "      <td>0.145708</td>\n",
              "    </tr>\n",
              "    <tr>\n",
              "      <th>1</th>\n",
              "      <td>Ant-man</td>\n",
              "      <td>June</td>\n",
              "      <td>29</td>\n",
              "      <td>2015</td>\n",
              "      <td>160000000</td>\n",
              "      <td>180202163</td>\n",
              "      <td>519311965</td>\n",
              "      <td>MCU</td>\n",
              "      <td>Antman</td>\n",
              "      <td>0.447856</td>\n",
              "      <td>-0.026944</td>\n",
              "    </tr>\n",
              "    <tr>\n",
              "      <th>2</th>\n",
              "      <td>Aquaman</td>\n",
              "      <td>Dec</td>\n",
              "      <td>21</td>\n",
              "      <td>2018</td>\n",
              "      <td>180000000</td>\n",
              "      <td>335061807</td>\n",
              "      <td>1147761807</td>\n",
              "      <td>MCU</td>\n",
              "      <td>Antman</td>\n",
              "      <td>0.447856</td>\n",
              "      <td>-0.026944</td>\n",
              "    </tr>\n",
              "    <tr>\n",
              "      <th>3</th>\n",
              "      <td>Ant-man and the wasp</td>\n",
              "      <td>July</td>\n",
              "      <td>6</td>\n",
              "      <td>2018</td>\n",
              "      <td>162000000</td>\n",
              "      <td>216648740</td>\n",
              "      <td>622674139</td>\n",
              "      <td>MCU</td>\n",
              "      <td>Antmanthewasp</td>\n",
              "      <td>0.483780</td>\n",
              "      <td>0.131781</td>\n",
              "    </tr>\n",
              "    <tr>\n",
              "      <th>4</th>\n",
              "      <td>Avengers Endgame</td>\n",
              "      <td>Apr</td>\n",
              "      <td>26</td>\n",
              "      <td>2019</td>\n",
              "      <td>365000000</td>\n",
              "      <td>827811359</td>\n",
              "      <td>2734786099</td>\n",
              "      <td>MCU</td>\n",
              "      <td>AvengersEndgame</td>\n",
              "      <td>0.464424</td>\n",
              "      <td>0.089621</td>\n",
              "    </tr>\n",
              "    <tr>\n",
              "      <th>5</th>\n",
              "      <td>Avengers InfinityWar</td>\n",
              "      <td>Apr</td>\n",
              "      <td>27</td>\n",
              "      <td>2018</td>\n",
              "      <td>385000000</td>\n",
              "      <td>678815482</td>\n",
              "      <td>2048359754</td>\n",
              "      <td>MCU</td>\n",
              "      <td>AvengersInfinityWar</td>\n",
              "      <td>0.155448</td>\n",
              "      <td>0.139388</td>\n",
              "    </tr>\n",
              "    <tr>\n",
              "      <th>6</th>\n",
              "      <td>Black Panther</td>\n",
              "      <td>Feb</td>\n",
              "      <td>16</td>\n",
              "      <td>2018</td>\n",
              "      <td>200000000</td>\n",
              "      <td>530851601</td>\n",
              "      <td>944951601</td>\n",
              "      <td>MCU</td>\n",
              "      <td>BlackPanther</td>\n",
              "      <td>0.441759</td>\n",
              "      <td>0.203379</td>\n",
              "    </tr>\n",
              "    <tr>\n",
              "      <th>7</th>\n",
              "      <td>Captain America: Civil War</td>\n",
              "      <td>May</td>\n",
              "      <td>6</td>\n",
              "      <td>2016</td>\n",
              "      <td>250000000</td>\n",
              "      <td>408084349</td>\n",
              "      <td>1153304495</td>\n",
              "      <td>MCU</td>\n",
              "      <td>CivilWar</td>\n",
              "      <td>0.267807</td>\n",
              "      <td>0.015877</td>\n",
              "    </tr>\n",
              "    <tr>\n",
              "      <th>8</th>\n",
              "      <td>Batman v Superman: Dawn of Justice</td>\n",
              "      <td>Mar</td>\n",
              "      <td>25</td>\n",
              "      <td>2016</td>\n",
              "      <td>250000000</td>\n",
              "      <td>330360194</td>\n",
              "      <td>868160194</td>\n",
              "      <td>DCEU</td>\n",
              "      <td>DawnofJustice</td>\n",
              "      <td>0.090210</td>\n",
              "      <td>0.304407</td>\n",
              "    </tr>\n",
              "    <tr>\n",
              "      <th>9</th>\n",
              "      <td>Doctor Strange</td>\n",
              "      <td>Nov</td>\n",
              "      <td>4</td>\n",
              "      <td>2016</td>\n",
              "      <td>165000000</td>\n",
              "      <td>232641920</td>\n",
              "      <td>677541920</td>\n",
              "      <td>MCU</td>\n",
              "      <td>DoctorStrange</td>\n",
              "      <td>0.379982</td>\n",
              "      <td>0.161916</td>\n",
              "    </tr>\n",
              "    <tr>\n",
              "      <th>10</th>\n",
              "      <td>Guardians of the Galaxy</td>\n",
              "      <td>Aug</td>\n",
              "      <td>1</td>\n",
              "      <td>2014</td>\n",
              "      <td>170000000</td>\n",
              "      <td>333172112</td>\n",
              "      <td>771051335</td>\n",
              "      <td>MCU</td>\n",
              "      <td>GuardiansoftheGalaxy</td>\n",
              "      <td>0.461389</td>\n",
              "      <td>0.242030</td>\n",
              "    </tr>\n",
              "    <tr>\n",
              "      <th>11</th>\n",
              "      <td>Justice League</td>\n",
              "      <td>Nov</td>\n",
              "      <td>17</td>\n",
              "      <td>2017</td>\n",
              "      <td>300000000</td>\n",
              "      <td>228977297</td>\n",
              "      <td>655906448</td>\n",
              "      <td>DCEU</td>\n",
              "      <td>JusticeLeague</td>\n",
              "      <td>0.304520</td>\n",
              "      <td>0.247213</td>\n",
              "    </tr>\n",
              "    <tr>\n",
              "      <th>12</th>\n",
              "      <td>Rogue One</td>\n",
              "      <td>Dec</td>\n",
              "      <td>16</td>\n",
              "      <td>2016</td>\n",
              "      <td>200000000</td>\n",
              "      <td>532177324</td>\n",
              "      <td>1056057273</td>\n",
              "      <td>STAR</td>\n",
              "      <td>RogueOne</td>\n",
              "      <td>0.139188</td>\n",
              "      <td>0.051062</td>\n",
              "    </tr>\n",
              "    <tr>\n",
              "      <th>13</th>\n",
              "      <td>Shazam</td>\n",
              "      <td>Apr</td>\n",
              "      <td>5</td>\n",
              "      <td>2019</td>\n",
              "      <td>100000000</td>\n",
              "      <td>139630393</td>\n",
              "      <td>363030393</td>\n",
              "      <td>DCEU</td>\n",
              "      <td>Shazam</td>\n",
              "      <td>0.503318</td>\n",
              "      <td>0.240115</td>\n",
              "    </tr>\n",
              "    <tr>\n",
              "      <th>14</th>\n",
              "      <td>Solo</td>\n",
              "      <td>May</td>\n",
              "      <td>10</td>\n",
              "      <td>2018</td>\n",
              "      <td>250000000</td>\n",
              "      <td>213767512</td>\n",
              "      <td>392924807</td>\n",
              "      <td>STAR</td>\n",
              "      <td>Solo</td>\n",
              "      <td>0.183288</td>\n",
              "      <td>0.311400</td>\n",
              "    </tr>\n",
              "    <tr>\n",
              "      <th>15</th>\n",
              "      <td>Spider-Man: Homecoming</td>\n",
              "      <td>Jul</td>\n",
              "      <td>7</td>\n",
              "      <td>2017</td>\n",
              "      <td>175000000</td>\n",
              "      <td>334201140</td>\n",
              "      <td>880206511</td>\n",
              "      <td>MCU</td>\n",
              "      <td>SpidermanHomecoming</td>\n",
              "      <td>0.470029</td>\n",
              "      <td>0.159455</td>\n",
              "    </tr>\n",
              "    <tr>\n",
              "      <th>16</th>\n",
              "      <td>Suicide Squad</td>\n",
              "      <td>Aug</td>\n",
              "      <td>5</td>\n",
              "      <td>2016</td>\n",
              "      <td>175000000</td>\n",
              "      <td>325100054</td>\n",
              "      <td>746100054</td>\n",
              "      <td>DCEU</td>\n",
              "      <td>SuicideSquad</td>\n",
              "      <td>-0.120457</td>\n",
              "      <td>0.039568</td>\n",
              "    </tr>\n",
              "    <tr>\n",
              "      <th>17</th>\n",
              "      <td>Star Wars Ep. VII: The Force Awakens</td>\n",
              "      <td>Dec</td>\n",
              "      <td>18</td>\n",
              "      <td>2015</td>\n",
              "      <td>306000000</td>\n",
              "      <td>936662225</td>\n",
              "      <td>2058662225</td>\n",
              "      <td>STAR</td>\n",
              "      <td>TheForceAwakens</td>\n",
              "      <td>0.343998</td>\n",
              "      <td>0.235119</td>\n",
              "    </tr>\n",
              "    <tr>\n",
              "      <th>18</th>\n",
              "      <td>The Last Jedi</td>\n",
              "      <td>Dec</td>\n",
              "      <td>15</td>\n",
              "      <td>2017</td>\n",
              "      <td>300000000</td>\n",
              "      <td>620181382</td>\n",
              "      <td>1332539889</td>\n",
              "      <td>STAR</td>\n",
              "      <td>TheLastJedi</td>\n",
              "      <td>0.271214</td>\n",
              "      <td>0.147334</td>\n",
              "    </tr>\n",
              "    <tr>\n",
              "      <th>19</th>\n",
              "      <td>Thor Ragnarok</td>\n",
              "      <td>Nov</td>\n",
              "      <td>3</td>\n",
              "      <td>2017</td>\n",
              "      <td>180000000</td>\n",
              "      <td>315059289</td>\n",
              "      <td>853977126</td>\n",
              "      <td>MCU</td>\n",
              "      <td>ThorRagnarok</td>\n",
              "      <td>0.461304</td>\n",
              "      <td>0.167975</td>\n",
              "    </tr>\n",
              "    <tr>\n",
              "      <th>20</th>\n",
              "      <td>Wonder Woman</td>\n",
              "      <td>Jun</td>\n",
              "      <td>2</td>\n",
              "      <td>2017</td>\n",
              "      <td>150000000</td>\n",
              "      <td>412563408</td>\n",
              "      <td>817012815</td>\n",
              "      <td>DCEU</td>\n",
              "      <td>WonderWoman</td>\n",
              "      <td>0.460269</td>\n",
              "      <td>0.245941</td>\n",
              "    </tr>\n",
              "  </tbody>\n",
              "</table>\n",
              "</div>"
            ],
            "text/plain": [
              "                           FullMovieName Month  ...  polarity_x  polarity_y\n",
              "0                Avengers: Age of Ultron   May  ...    0.325920    0.145708\n",
              "1                                Ant-man  June  ...    0.447856   -0.026944\n",
              "2                                Aquaman   Dec  ...    0.447856   -0.026944\n",
              "3                   Ant-man and the wasp  July  ...    0.483780    0.131781\n",
              "4                       Avengers Endgame   Apr  ...    0.464424    0.089621\n",
              "5                   Avengers InfinityWar   Apr  ...    0.155448    0.139388\n",
              "6                          Black Panther   Feb  ...    0.441759    0.203379\n",
              "7             Captain America: Civil War   May  ...    0.267807    0.015877\n",
              "8     Batman v Superman: Dawn of Justice   Mar  ...    0.090210    0.304407\n",
              "9                         Doctor Strange   Nov  ...    0.379982    0.161916\n",
              "10               Guardians of the Galaxy   Aug  ...    0.461389    0.242030\n",
              "11                        Justice League   Nov  ...    0.304520    0.247213\n",
              "12                             Rogue One   Dec  ...    0.139188    0.051062\n",
              "13                                Shazam   Apr  ...    0.503318    0.240115\n",
              "14                                  Solo   May  ...    0.183288    0.311400\n",
              "15                Spider-Man: Homecoming   Jul  ...    0.470029    0.159455\n",
              "16                         Suicide Squad   Aug  ...   -0.120457    0.039568\n",
              "17  Star Wars Ep. VII: The Force Awakens   Dec  ...    0.343998    0.235119\n",
              "18                         The Last Jedi   Dec  ...    0.271214    0.147334\n",
              "19                         Thor Ragnarok   Nov  ...    0.461304    0.167975\n",
              "20                          Wonder Woman   Jun  ...    0.460269    0.245941\n",
              "\n",
              "[21 rows x 11 columns]"
            ]
          },
          "metadata": {
            "tags": []
          },
          "execution_count": 11
        }
      ]
    },
    {
      "cell_type": "code",
      "metadata": {
        "id": "t1EwQglPhoZu",
        "colab_type": "code",
        "colab": {
          "base_uri": "https://localhost:8080/",
          "height": 53
        },
        "outputId": "6f907b7b-e071-46eb-8cd7-c806387109ae"
      },
      "source": [
        "print(\"finalDF \",list(finalDF))"
      ],
      "execution_count": 12,
      "outputs": [
        {
          "output_type": "stream",
          "text": [
            "finalDF  ['FullMovieName', 'Month', 'Day', 'Year', 'Budget', 'Domestic Gross', 'Worldwide Gross', 'Universe', 'Movie', 'polarity_x', 'polarity_y']\n"
          ],
          "name": "stdout"
        }
      ]
    },
    {
      "cell_type": "code",
      "metadata": {
        "id": "U0flN7uus6HG",
        "colab_type": "code",
        "colab": {}
      },
      "source": [
        "finalDF.columns = ['FullMovieName', 'Month', 'Day', 'Year', 'Budget', 'DomesticGross', 'WorldwideGross', 'Universe', 'Movie', 'polarity_rt', 'polarity_twitter']"
      ],
      "execution_count": 0,
      "outputs": []
    },
    {
      "cell_type": "code",
      "metadata": {
        "id": "6feAMSWCin-G",
        "colab_type": "code",
        "colab": {}
      },
      "source": [
        ""
      ],
      "execution_count": 0,
      "outputs": []
    },
    {
      "cell_type": "code",
      "metadata": {
        "id": "dPLVZ0QxiH9K",
        "colab_type": "code",
        "colab": {
          "base_uri": "https://localhost:8080/",
          "height": 897
        },
        "outputId": "3b8d13b2-2dda-401e-cd2e-2e520dcc5ac2"
      },
      "source": [
        "finalDF"
      ],
      "execution_count": 14,
      "outputs": [
        {
          "output_type": "execute_result",
          "data": {
            "text/html": [
              "<div>\n",
              "<style scoped>\n",
              "    .dataframe tbody tr th:only-of-type {\n",
              "        vertical-align: middle;\n",
              "    }\n",
              "\n",
              "    .dataframe tbody tr th {\n",
              "        vertical-align: top;\n",
              "    }\n",
              "\n",
              "    .dataframe thead th {\n",
              "        text-align: right;\n",
              "    }\n",
              "</style>\n",
              "<table border=\"1\" class=\"dataframe\">\n",
              "  <thead>\n",
              "    <tr style=\"text-align: right;\">\n",
              "      <th></th>\n",
              "      <th>FullMovieName</th>\n",
              "      <th>Month</th>\n",
              "      <th>Day</th>\n",
              "      <th>Year</th>\n",
              "      <th>Budget</th>\n",
              "      <th>DomesticGross</th>\n",
              "      <th>WorldwideGross</th>\n",
              "      <th>Universe</th>\n",
              "      <th>Movie</th>\n",
              "      <th>polarity_rt</th>\n",
              "      <th>polarity_twitter</th>\n",
              "    </tr>\n",
              "  </thead>\n",
              "  <tbody>\n",
              "    <tr>\n",
              "      <th>0</th>\n",
              "      <td>Avengers: Age of Ultron</td>\n",
              "      <td>May</td>\n",
              "      <td>1</td>\n",
              "      <td>2015</td>\n",
              "      <td>495000000</td>\n",
              "      <td>459005868</td>\n",
              "      <td>1405403694</td>\n",
              "      <td>MCU</td>\n",
              "      <td>AgeofUltron</td>\n",
              "      <td>0.325920</td>\n",
              "      <td>0.145708</td>\n",
              "    </tr>\n",
              "    <tr>\n",
              "      <th>1</th>\n",
              "      <td>Ant-man</td>\n",
              "      <td>June</td>\n",
              "      <td>29</td>\n",
              "      <td>2015</td>\n",
              "      <td>160000000</td>\n",
              "      <td>180202163</td>\n",
              "      <td>519311965</td>\n",
              "      <td>MCU</td>\n",
              "      <td>Antman</td>\n",
              "      <td>0.447856</td>\n",
              "      <td>-0.026944</td>\n",
              "    </tr>\n",
              "    <tr>\n",
              "      <th>2</th>\n",
              "      <td>Aquaman</td>\n",
              "      <td>Dec</td>\n",
              "      <td>21</td>\n",
              "      <td>2018</td>\n",
              "      <td>180000000</td>\n",
              "      <td>335061807</td>\n",
              "      <td>1147761807</td>\n",
              "      <td>MCU</td>\n",
              "      <td>Antman</td>\n",
              "      <td>0.447856</td>\n",
              "      <td>-0.026944</td>\n",
              "    </tr>\n",
              "    <tr>\n",
              "      <th>3</th>\n",
              "      <td>Ant-man and the wasp</td>\n",
              "      <td>July</td>\n",
              "      <td>6</td>\n",
              "      <td>2018</td>\n",
              "      <td>162000000</td>\n",
              "      <td>216648740</td>\n",
              "      <td>622674139</td>\n",
              "      <td>MCU</td>\n",
              "      <td>Antmanthewasp</td>\n",
              "      <td>0.483780</td>\n",
              "      <td>0.131781</td>\n",
              "    </tr>\n",
              "    <tr>\n",
              "      <th>4</th>\n",
              "      <td>Avengers Endgame</td>\n",
              "      <td>Apr</td>\n",
              "      <td>26</td>\n",
              "      <td>2019</td>\n",
              "      <td>365000000</td>\n",
              "      <td>827811359</td>\n",
              "      <td>2734786099</td>\n",
              "      <td>MCU</td>\n",
              "      <td>AvengersEndgame</td>\n",
              "      <td>0.464424</td>\n",
              "      <td>0.089621</td>\n",
              "    </tr>\n",
              "    <tr>\n",
              "      <th>5</th>\n",
              "      <td>Avengers InfinityWar</td>\n",
              "      <td>Apr</td>\n",
              "      <td>27</td>\n",
              "      <td>2018</td>\n",
              "      <td>385000000</td>\n",
              "      <td>678815482</td>\n",
              "      <td>2048359754</td>\n",
              "      <td>MCU</td>\n",
              "      <td>AvengersInfinityWar</td>\n",
              "      <td>0.155448</td>\n",
              "      <td>0.139388</td>\n",
              "    </tr>\n",
              "    <tr>\n",
              "      <th>6</th>\n",
              "      <td>Black Panther</td>\n",
              "      <td>Feb</td>\n",
              "      <td>16</td>\n",
              "      <td>2018</td>\n",
              "      <td>200000000</td>\n",
              "      <td>530851601</td>\n",
              "      <td>944951601</td>\n",
              "      <td>MCU</td>\n",
              "      <td>BlackPanther</td>\n",
              "      <td>0.441759</td>\n",
              "      <td>0.203379</td>\n",
              "    </tr>\n",
              "    <tr>\n",
              "      <th>7</th>\n",
              "      <td>Captain America: Civil War</td>\n",
              "      <td>May</td>\n",
              "      <td>6</td>\n",
              "      <td>2016</td>\n",
              "      <td>250000000</td>\n",
              "      <td>408084349</td>\n",
              "      <td>1153304495</td>\n",
              "      <td>MCU</td>\n",
              "      <td>CivilWar</td>\n",
              "      <td>0.267807</td>\n",
              "      <td>0.015877</td>\n",
              "    </tr>\n",
              "    <tr>\n",
              "      <th>8</th>\n",
              "      <td>Batman v Superman: Dawn of Justice</td>\n",
              "      <td>Mar</td>\n",
              "      <td>25</td>\n",
              "      <td>2016</td>\n",
              "      <td>250000000</td>\n",
              "      <td>330360194</td>\n",
              "      <td>868160194</td>\n",
              "      <td>DCEU</td>\n",
              "      <td>DawnofJustice</td>\n",
              "      <td>0.090210</td>\n",
              "      <td>0.304407</td>\n",
              "    </tr>\n",
              "    <tr>\n",
              "      <th>9</th>\n",
              "      <td>Doctor Strange</td>\n",
              "      <td>Nov</td>\n",
              "      <td>4</td>\n",
              "      <td>2016</td>\n",
              "      <td>165000000</td>\n",
              "      <td>232641920</td>\n",
              "      <td>677541920</td>\n",
              "      <td>MCU</td>\n",
              "      <td>DoctorStrange</td>\n",
              "      <td>0.379982</td>\n",
              "      <td>0.161916</td>\n",
              "    </tr>\n",
              "    <tr>\n",
              "      <th>10</th>\n",
              "      <td>Guardians of the Galaxy</td>\n",
              "      <td>Aug</td>\n",
              "      <td>1</td>\n",
              "      <td>2014</td>\n",
              "      <td>170000000</td>\n",
              "      <td>333172112</td>\n",
              "      <td>771051335</td>\n",
              "      <td>MCU</td>\n",
              "      <td>GuardiansoftheGalaxy</td>\n",
              "      <td>0.461389</td>\n",
              "      <td>0.242030</td>\n",
              "    </tr>\n",
              "    <tr>\n",
              "      <th>11</th>\n",
              "      <td>Justice League</td>\n",
              "      <td>Nov</td>\n",
              "      <td>17</td>\n",
              "      <td>2017</td>\n",
              "      <td>300000000</td>\n",
              "      <td>228977297</td>\n",
              "      <td>655906448</td>\n",
              "      <td>DCEU</td>\n",
              "      <td>JusticeLeague</td>\n",
              "      <td>0.304520</td>\n",
              "      <td>0.247213</td>\n",
              "    </tr>\n",
              "    <tr>\n",
              "      <th>12</th>\n",
              "      <td>Rogue One</td>\n",
              "      <td>Dec</td>\n",
              "      <td>16</td>\n",
              "      <td>2016</td>\n",
              "      <td>200000000</td>\n",
              "      <td>532177324</td>\n",
              "      <td>1056057273</td>\n",
              "      <td>STAR</td>\n",
              "      <td>RogueOne</td>\n",
              "      <td>0.139188</td>\n",
              "      <td>0.051062</td>\n",
              "    </tr>\n",
              "    <tr>\n",
              "      <th>13</th>\n",
              "      <td>Shazam</td>\n",
              "      <td>Apr</td>\n",
              "      <td>5</td>\n",
              "      <td>2019</td>\n",
              "      <td>100000000</td>\n",
              "      <td>139630393</td>\n",
              "      <td>363030393</td>\n",
              "      <td>DCEU</td>\n",
              "      <td>Shazam</td>\n",
              "      <td>0.503318</td>\n",
              "      <td>0.240115</td>\n",
              "    </tr>\n",
              "    <tr>\n",
              "      <th>14</th>\n",
              "      <td>Solo</td>\n",
              "      <td>May</td>\n",
              "      <td>10</td>\n",
              "      <td>2018</td>\n",
              "      <td>250000000</td>\n",
              "      <td>213767512</td>\n",
              "      <td>392924807</td>\n",
              "      <td>STAR</td>\n",
              "      <td>Solo</td>\n",
              "      <td>0.183288</td>\n",
              "      <td>0.311400</td>\n",
              "    </tr>\n",
              "    <tr>\n",
              "      <th>15</th>\n",
              "      <td>Spider-Man: Homecoming</td>\n",
              "      <td>Jul</td>\n",
              "      <td>7</td>\n",
              "      <td>2017</td>\n",
              "      <td>175000000</td>\n",
              "      <td>334201140</td>\n",
              "      <td>880206511</td>\n",
              "      <td>MCU</td>\n",
              "      <td>SpidermanHomecoming</td>\n",
              "      <td>0.470029</td>\n",
              "      <td>0.159455</td>\n",
              "    </tr>\n",
              "    <tr>\n",
              "      <th>16</th>\n",
              "      <td>Suicide Squad</td>\n",
              "      <td>Aug</td>\n",
              "      <td>5</td>\n",
              "      <td>2016</td>\n",
              "      <td>175000000</td>\n",
              "      <td>325100054</td>\n",
              "      <td>746100054</td>\n",
              "      <td>DCEU</td>\n",
              "      <td>SuicideSquad</td>\n",
              "      <td>-0.120457</td>\n",
              "      <td>0.039568</td>\n",
              "    </tr>\n",
              "    <tr>\n",
              "      <th>17</th>\n",
              "      <td>Star Wars Ep. VII: The Force Awakens</td>\n",
              "      <td>Dec</td>\n",
              "      <td>18</td>\n",
              "      <td>2015</td>\n",
              "      <td>306000000</td>\n",
              "      <td>936662225</td>\n",
              "      <td>2058662225</td>\n",
              "      <td>STAR</td>\n",
              "      <td>TheForceAwakens</td>\n",
              "      <td>0.343998</td>\n",
              "      <td>0.235119</td>\n",
              "    </tr>\n",
              "    <tr>\n",
              "      <th>18</th>\n",
              "      <td>The Last Jedi</td>\n",
              "      <td>Dec</td>\n",
              "      <td>15</td>\n",
              "      <td>2017</td>\n",
              "      <td>300000000</td>\n",
              "      <td>620181382</td>\n",
              "      <td>1332539889</td>\n",
              "      <td>STAR</td>\n",
              "      <td>TheLastJedi</td>\n",
              "      <td>0.271214</td>\n",
              "      <td>0.147334</td>\n",
              "    </tr>\n",
              "    <tr>\n",
              "      <th>19</th>\n",
              "      <td>Thor Ragnarok</td>\n",
              "      <td>Nov</td>\n",
              "      <td>3</td>\n",
              "      <td>2017</td>\n",
              "      <td>180000000</td>\n",
              "      <td>315059289</td>\n",
              "      <td>853977126</td>\n",
              "      <td>MCU</td>\n",
              "      <td>ThorRagnarok</td>\n",
              "      <td>0.461304</td>\n",
              "      <td>0.167975</td>\n",
              "    </tr>\n",
              "    <tr>\n",
              "      <th>20</th>\n",
              "      <td>Wonder Woman</td>\n",
              "      <td>Jun</td>\n",
              "      <td>2</td>\n",
              "      <td>2017</td>\n",
              "      <td>150000000</td>\n",
              "      <td>412563408</td>\n",
              "      <td>817012815</td>\n",
              "      <td>DCEU</td>\n",
              "      <td>WonderWoman</td>\n",
              "      <td>0.460269</td>\n",
              "      <td>0.245941</td>\n",
              "    </tr>\n",
              "  </tbody>\n",
              "</table>\n",
              "</div>"
            ],
            "text/plain": [
              "                           FullMovieName Month  ...  polarity_rt  polarity_twitter\n",
              "0                Avengers: Age of Ultron   May  ...     0.325920          0.145708\n",
              "1                                Ant-man  June  ...     0.447856         -0.026944\n",
              "2                                Aquaman   Dec  ...     0.447856         -0.026944\n",
              "3                   Ant-man and the wasp  July  ...     0.483780          0.131781\n",
              "4                       Avengers Endgame   Apr  ...     0.464424          0.089621\n",
              "5                   Avengers InfinityWar   Apr  ...     0.155448          0.139388\n",
              "6                          Black Panther   Feb  ...     0.441759          0.203379\n",
              "7             Captain America: Civil War   May  ...     0.267807          0.015877\n",
              "8     Batman v Superman: Dawn of Justice   Mar  ...     0.090210          0.304407\n",
              "9                         Doctor Strange   Nov  ...     0.379982          0.161916\n",
              "10               Guardians of the Galaxy   Aug  ...     0.461389          0.242030\n",
              "11                        Justice League   Nov  ...     0.304520          0.247213\n",
              "12                             Rogue One   Dec  ...     0.139188          0.051062\n",
              "13                                Shazam   Apr  ...     0.503318          0.240115\n",
              "14                                  Solo   May  ...     0.183288          0.311400\n",
              "15                Spider-Man: Homecoming   Jul  ...     0.470029          0.159455\n",
              "16                         Suicide Squad   Aug  ...    -0.120457          0.039568\n",
              "17  Star Wars Ep. VII: The Force Awakens   Dec  ...     0.343998          0.235119\n",
              "18                         The Last Jedi   Dec  ...     0.271214          0.147334\n",
              "19                         Thor Ragnarok   Nov  ...     0.461304          0.167975\n",
              "20                          Wonder Woman   Jun  ...     0.460269          0.245941\n",
              "\n",
              "[21 rows x 11 columns]"
            ]
          },
          "metadata": {
            "tags": []
          },
          "execution_count": 14
        }
      ]
    },
    {
      "cell_type": "code",
      "metadata": {
        "id": "bzcok0iEiQvg",
        "colab_type": "code",
        "colab": {}
      },
      "source": [
        "data2=finalDF"
      ],
      "execution_count": 0,
      "outputs": []
    },
    {
      "cell_type": "code",
      "metadata": {
        "id": "xes_0k2Rs6Hm",
        "colab_type": "code",
        "outputId": "1135f639-a571-462b-b872-be58c4b3b049",
        "colab": {
          "base_uri": "https://localhost:8080/",
          "height": 197
        }
      },
      "source": [
        "from sklearn.preprocessing import LabelEncoder\n",
        "\n",
        "# Label encoding ConfAbbr\n",
        "\n",
        "lb_make = LabelEncoder()\n",
        "data2[\"Month_code\"] = lb_make.fit_transform(data2[\"Month\"].astype(str))\n",
        "data2[[\"Month\", \"Month_code\"]].head()"
      ],
      "execution_count": 16,
      "outputs": [
        {
          "output_type": "execute_result",
          "data": {
            "text/html": [
              "<div>\n",
              "<style scoped>\n",
              "    .dataframe tbody tr th:only-of-type {\n",
              "        vertical-align: middle;\n",
              "    }\n",
              "\n",
              "    .dataframe tbody tr th {\n",
              "        vertical-align: top;\n",
              "    }\n",
              "\n",
              "    .dataframe thead th {\n",
              "        text-align: right;\n",
              "    }\n",
              "</style>\n",
              "<table border=\"1\" class=\"dataframe\">\n",
              "  <thead>\n",
              "    <tr style=\"text-align: right;\">\n",
              "      <th></th>\n",
              "      <th>Month</th>\n",
              "      <th>Month_code</th>\n",
              "    </tr>\n",
              "  </thead>\n",
              "  <tbody>\n",
              "    <tr>\n",
              "      <th>0</th>\n",
              "      <td>May</td>\n",
              "      <td>9</td>\n",
              "    </tr>\n",
              "    <tr>\n",
              "      <th>1</th>\n",
              "      <td>June</td>\n",
              "      <td>7</td>\n",
              "    </tr>\n",
              "    <tr>\n",
              "      <th>2</th>\n",
              "      <td>Dec</td>\n",
              "      <td>2</td>\n",
              "    </tr>\n",
              "    <tr>\n",
              "      <th>3</th>\n",
              "      <td>July</td>\n",
              "      <td>5</td>\n",
              "    </tr>\n",
              "    <tr>\n",
              "      <th>4</th>\n",
              "      <td>Apr</td>\n",
              "      <td>0</td>\n",
              "    </tr>\n",
              "  </tbody>\n",
              "</table>\n",
              "</div>"
            ],
            "text/plain": [
              "  Month  Month_code\n",
              "0   May           9\n",
              "1  June           7\n",
              "2   Dec           2\n",
              "3  July           5\n",
              "4   Apr           0"
            ]
          },
          "metadata": {
            "tags": []
          },
          "execution_count": 16
        }
      ]
    },
    {
      "cell_type": "code",
      "metadata": {
        "id": "j_I42I0Ns6Hs",
        "colab_type": "code",
        "outputId": "a99bdcad-0846-4ece-e188-423a40a28591",
        "colab": {
          "base_uri": "https://localhost:8080/",
          "height": 33
        }
      },
      "source": [
        "# review the size of the dataset\n",
        "data2.shape"
      ],
      "execution_count": 17,
      "outputs": [
        {
          "output_type": "execute_result",
          "data": {
            "text/plain": [
              "(21, 12)"
            ]
          },
          "metadata": {
            "tags": []
          },
          "execution_count": 17
        }
      ]
    },
    {
      "cell_type": "code",
      "metadata": {
        "id": "cWMCCtTcij-a",
        "colab_type": "code",
        "colab": {
          "base_uri": "https://localhost:8080/",
          "height": 233
        },
        "outputId": "b727b38b-2261-4ef4-f076-8f439d507150"
      },
      "source": [
        "data2.dtypes\n"
      ],
      "execution_count": 18,
      "outputs": [
        {
          "output_type": "execute_result",
          "data": {
            "text/plain": [
              "FullMovieName        object\n",
              "Month                object\n",
              "Day                   int64\n",
              "Year                  int64\n",
              "Budget                int64\n",
              "DomesticGross         int64\n",
              "WorldwideGross        int64\n",
              "Universe             object\n",
              "Movie                object\n",
              "polarity_rt         float64\n",
              "polarity_twitter    float64\n",
              "Month_code            int64\n",
              "dtype: object"
            ]
          },
          "metadata": {
            "tags": []
          },
          "execution_count": 18
        }
      ]
    },
    {
      "cell_type": "code",
      "metadata": {
        "id": "HGIGNfEGs6Hv",
        "colab_type": "code",
        "outputId": "7d2a7702-f5ec-4e0d-cbaf-3f8337f17a9c",
        "colab": {
          "base_uri": "https://localhost:8080/",
          "height": 287
        }
      },
      "source": [
        "# Statistical Summary of Numeric Variables\n",
        "data2.describe()"
      ],
      "execution_count": 19,
      "outputs": [
        {
          "output_type": "execute_result",
          "data": {
            "text/html": [
              "<div>\n",
              "<style scoped>\n",
              "    .dataframe tbody tr th:only-of-type {\n",
              "        vertical-align: middle;\n",
              "    }\n",
              "\n",
              "    .dataframe tbody tr th {\n",
              "        vertical-align: top;\n",
              "    }\n",
              "\n",
              "    .dataframe thead th {\n",
              "        text-align: right;\n",
              "    }\n",
              "</style>\n",
              "<table border=\"1\" class=\"dataframe\">\n",
              "  <thead>\n",
              "    <tr style=\"text-align: right;\">\n",
              "      <th></th>\n",
              "      <th>Day</th>\n",
              "      <th>Year</th>\n",
              "      <th>Budget</th>\n",
              "      <th>DomesticGross</th>\n",
              "      <th>WorldwideGross</th>\n",
              "      <th>polarity_rt</th>\n",
              "      <th>polarity_twitter</th>\n",
              "      <th>Month_code</th>\n",
              "    </tr>\n",
              "  </thead>\n",
              "  <tbody>\n",
              "    <tr>\n",
              "      <th>count</th>\n",
              "      <td>21.000000</td>\n",
              "      <td>21.000000</td>\n",
              "      <td>2.100000e+01</td>\n",
              "      <td>2.100000e+01</td>\n",
              "      <td>2.100000e+01</td>\n",
              "      <td>21.000000</td>\n",
              "      <td>21.000000</td>\n",
              "      <td>21.000000</td>\n",
              "    </tr>\n",
              "    <tr>\n",
              "      <th>mean</th>\n",
              "      <td>12.380952</td>\n",
              "      <td>2016.761905</td>\n",
              "      <td>2.341905e+08</td>\n",
              "      <td>4.090941e+08</td>\n",
              "      <td>1.049987e+09</td>\n",
              "      <td>0.332529</td>\n",
              "      <td>0.153591</td>\n",
              "      <td>4.761905</td>\n",
              "    </tr>\n",
              "    <tr>\n",
              "      <th>std</th>\n",
              "      <td>9.340643</td>\n",
              "      <td>1.374946</td>\n",
              "      <td>9.549378e+07</td>\n",
              "      <td>2.128563e+08</td>\n",
              "      <td>5.948439e+08</td>\n",
              "      <td>0.164692</td>\n",
              "      <td>0.100554</td>\n",
              "      <td>3.767025</td>\n",
              "    </tr>\n",
              "    <tr>\n",
              "      <th>min</th>\n",
              "      <td>1.000000</td>\n",
              "      <td>2014.000000</td>\n",
              "      <td>1.000000e+08</td>\n",
              "      <td>1.396304e+08</td>\n",
              "      <td>3.630304e+08</td>\n",
              "      <td>-0.120457</td>\n",
              "      <td>-0.026944</td>\n",
              "      <td>0.000000</td>\n",
              "    </tr>\n",
              "    <tr>\n",
              "      <th>25%</th>\n",
              "      <td>5.000000</td>\n",
              "      <td>2016.000000</td>\n",
              "      <td>1.700000e+08</td>\n",
              "      <td>2.326419e+08</td>\n",
              "      <td>6.775419e+08</td>\n",
              "      <td>0.267807</td>\n",
              "      <td>0.089621</td>\n",
              "      <td>2.000000</td>\n",
              "    </tr>\n",
              "    <tr>\n",
              "      <th>50%</th>\n",
              "      <td>10.000000</td>\n",
              "      <td>2017.000000</td>\n",
              "      <td>2.000000e+08</td>\n",
              "      <td>3.342011e+08</td>\n",
              "      <td>8.681602e+08</td>\n",
              "      <td>0.379982</td>\n",
              "      <td>0.159455</td>\n",
              "      <td>4.000000</td>\n",
              "    </tr>\n",
              "    <tr>\n",
              "      <th>75%</th>\n",
              "      <td>18.000000</td>\n",
              "      <td>2018.000000</td>\n",
              "      <td>3.000000e+08</td>\n",
              "      <td>5.308516e+08</td>\n",
              "      <td>1.153304e+09</td>\n",
              "      <td>0.461304</td>\n",
              "      <td>0.240115</td>\n",
              "      <td>9.000000</td>\n",
              "    </tr>\n",
              "    <tr>\n",
              "      <th>max</th>\n",
              "      <td>29.000000</td>\n",
              "      <td>2019.000000</td>\n",
              "      <td>4.950000e+08</td>\n",
              "      <td>9.366622e+08</td>\n",
              "      <td>2.734786e+09</td>\n",
              "      <td>0.503318</td>\n",
              "      <td>0.311400</td>\n",
              "      <td>10.000000</td>\n",
              "    </tr>\n",
              "  </tbody>\n",
              "</table>\n",
              "</div>"
            ],
            "text/plain": [
              "             Day         Year  ...  polarity_twitter  Month_code\n",
              "count  21.000000    21.000000  ...         21.000000   21.000000\n",
              "mean   12.380952  2016.761905  ...          0.153591    4.761905\n",
              "std     9.340643     1.374946  ...          0.100554    3.767025\n",
              "min     1.000000  2014.000000  ...         -0.026944    0.000000\n",
              "25%     5.000000  2016.000000  ...          0.089621    2.000000\n",
              "50%    10.000000  2017.000000  ...          0.159455    4.000000\n",
              "75%    18.000000  2018.000000  ...          0.240115    9.000000\n",
              "max    29.000000  2019.000000  ...          0.311400   10.000000\n",
              "\n",
              "[8 rows x 8 columns]"
            ]
          },
          "metadata": {
            "tags": []
          },
          "execution_count": 19
        }
      ]
    },
    {
      "cell_type": "code",
      "metadata": {
        "id": "ECXPjVMss6Hy",
        "colab_type": "code",
        "outputId": "f03931e6-de4a-4ef5-a11b-9d65faf13703",
        "colab": {
          "base_uri": "https://localhost:8080/",
          "height": 100
        }
      },
      "source": [
        "# find max amounts\n",
        "print(\"Heighest of Budget:       \", data2['Budget'].max())\n",
        "print(\"Heighest of Domestic Gross:       \", data2['DomesticGross'].max())\n",
        "print(\"Heighest of Worldwide Gross:       \", data2['WorldwideGross'].max())\n",
        "print(\"Heighest of Polarity from Twitter:       \", data2['polarity_twitter'].max())\n",
        "print(\"Heighest of Polarity from Rotten Tomato:       \", data2['polarity_rt'].max())"
      ],
      "execution_count": 20,
      "outputs": [
        {
          "output_type": "stream",
          "text": [
            "Heighest of Budget:        495000000\n",
            "Heighest of Domestic Gross:        936662225\n",
            "Heighest of Worldwide Gross:        2734786099\n",
            "Heighest of Polarity from Twitter:        0.3114\n",
            "Heighest of Polarity from Rotten Tomato:        0.5033183381088823\n"
          ],
          "name": "stdout"
        }
      ]
    },
    {
      "cell_type": "code",
      "metadata": {
        "id": "mSQmBGf7s6H0",
        "colab_type": "code",
        "outputId": "00787db9-ff43-4ea8-cd2e-d2ff12b51c91",
        "colab": {
          "base_uri": "https://localhost:8080/",
          "height": 511
        }
      },
      "source": [
        "# Boxplot for all\n",
        "plt.figure(figsize=(16, 8))\n",
        "sns.boxplot(data=data2)"
      ],
      "execution_count": 21,
      "outputs": [
        {
          "output_type": "execute_result",
          "data": {
            "text/plain": [
              "<matplotlib.axes._subplots.AxesSubplot at 0x7f972b54bf98>"
            ]
          },
          "metadata": {
            "tags": []
          },
          "execution_count": 21
        },
        {
          "output_type": "display_data",
          "data": {
            "image/png": "[encoded data removed]",
            "text/plain": [
              "<Figure size 1152x576 with 1 Axes>"
            ]
          },
          "metadata": {
            "tags": []
          }
        }
      ]
    },
    {
      "cell_type": "code",
      "metadata": {
        "id": "VOk8m7Zms6H2",
        "colab_type": "code",
        "outputId": "47d8397a-e5b7-4ad7-ba6b-245f9d10deb7",
        "colab": {
          "base_uri": "https://localhost:8080/",
          "height": 317
        }
      },
      "source": [
        "# TotalPay by conference\n",
        "data2.boxplot(column='DomesticGross', by = 'Month')"
      ],
      "execution_count": 22,
      "outputs": [
        {
          "output_type": "execute_result",
          "data": {
            "text/plain": [
              "<matplotlib.axes._subplots.AxesSubplot at 0x7f9729d93240>"
            ]
          },
          "metadata": {
            "tags": []
          },
          "execution_count": 22
        },
        {
          "output_type": "display_data",
          "data": {
            "image/png": "[encoded data removed]",
            "text/plain": [
              "<Figure size 432x288 with 1 Axes>"
            ]
          },
          "metadata": {
            "tags": []
          }
        }
      ]
    },
    {
      "cell_type": "code",
      "metadata": {
        "id": "NyeLJs5as6H5",
        "colab_type": "code",
        "outputId": "14c52897-adcf-40f3-d16d-13191bad0e18",
        "colab": {
          "base_uri": "https://localhost:8080/",
          "height": 504
        }
      },
      "source": [
        "# Calculate correlations\n",
        "corr = data2.corr()\n",
        " \n",
        "# Heatmap\n",
        "plt.figure(figsize=(16, 8))\n",
        "sns.heatmap(corr)"
      ],
      "execution_count": 23,
      "outputs": [
        {
          "output_type": "execute_result",
          "data": {
            "text/plain": [
              "<matplotlib.axes._subplots.AxesSubplot at 0x7f9727bc4b70>"
            ]
          },
          "metadata": {
            "tags": []
          },
          "execution_count": 23
        },
        {
          "output_type": "display_data",
          "data": {
            "image/png": "[encoded data removed]",
            "text/plain": [
              "<Figure size 1152x576 with 2 Axes>"
            ]
          },
          "metadata": {
            "tags": []
          }
        }
      ]
    },
    {
      "cell_type": "code",
      "metadata": {
        "id": "HR9cZKZ7s6H7",
        "colab_type": "code",
        "outputId": "423eb246-59cb-4fb9-9e6f-26b6a4e6d2db",
        "colab": {
          "base_uri": "https://localhost:8080/",
          "height": 1485
        }
      },
      "source": [
        "# pairplots showing the relationship and distribution\n",
        "sns.pairplot(data2)"
      ],
      "execution_count": 24,
      "outputs": [
        {
          "output_type": "execute_result",
          "data": {
            "text/plain": [
              "<seaborn.axisgrid.PairGrid at 0x7f972b54b240>"
            ]
          },
          "metadata": {
            "tags": []
          },
          "execution_count": 24
        },
        {
          "output_type": "display_data",
          "data": {
            "image/png": "[encoded data removed]",
            "text/plain": [
              "<Figure size 1440x1440 with 72 Axes>"
            ]
          },
          "metadata": {
            "tags": []
          }
        }
      ]
    },
    {
      "cell_type": "markdown",
      "metadata": {
        "id": "61D-udmYs6H-",
        "colab_type": "text"
      },
      "source": [
        "Data Predictive Model\n",
        "Model1 - Multiple Linear Regression"
      ]
    },
    {
      "cell_type": "code",
      "metadata": {
        "id": "dVuXui2Ps6H-",
        "colab_type": "code",
        "colab": {}
      },
      "source": [
        "# create training and test datasets\n",
        "np.random.seed(1234)\n",
        "data2['runiform'] = uniform.rvs(loc = 0, scale = 1, size = len(data2))\n",
        "data2_train = data2[data2['runiform'] >= 0.33]\n",
        "data2_test = data2[data2['runiform'] < 0.33]"
      ],
      "execution_count": 0,
      "outputs": []
    },
    {
      "cell_type": "code",
      "metadata": {
        "id": "VBDAqmkTs6H_",
        "colab_type": "code",
        "outputId": "5dfc5348-e54d-4bc6-d76b-74274915483b",
        "colab": {
          "base_uri": "https://localhost:8080/",
          "height": 166
        }
      },
      "source": [
        "# check training data frame\n",
        "print('\\SusItems_train data frame (rows, columns): ',data2_train.shape)\n",
        "print(data2_train.head())"
      ],
      "execution_count": 26,
      "outputs": [
        {
          "output_type": "stream",
          "text": [
            "\\SusItems_train data frame (rows, columns):  (17, 13)\n",
            "                FullMovieName Month  ...  Month_code  runiform\n",
            "1                     Ant-man  June  ...           7  0.622109\n",
            "2                     Aquaman   Dec  ...           2  0.437728\n",
            "3        Ant-man and the wasp  July  ...           5  0.785359\n",
            "4            Avengers Endgame   Apr  ...           0  0.779976\n",
            "7  Captain America: Civil War   May  ...           9  0.801872\n",
            "\n",
            "[5 rows x 13 columns]\n"
          ],
          "name": "stdout"
        }
      ]
    },
    {
      "cell_type": "code",
      "metadata": {
        "id": "kof5sL9is6II",
        "colab_type": "code",
        "outputId": "bc7ffbb5-147c-4563-a708-335059f264f1",
        "colab": {
          "base_uri": "https://localhost:8080/",
          "height": 150
        }
      },
      "source": [
        "# check test data frame\n",
        "print('\\SusItems_test data frame (rows, columns): ',data2_test.shape)\n",
        "print(data2_test.head())"
      ],
      "execution_count": 27,
      "outputs": [
        {
          "output_type": "stream",
          "text": [
            "\\SusItems_test data frame (rows, columns):  (4, 13)\n",
            "                           FullMovieName Month  ...  Month_code  runiform\n",
            "0                Avengers: Age of Ultron   May  ...           9  0.191519\n",
            "5                   Avengers InfinityWar   Apr  ...           0  0.272593\n",
            "6                          Black Panther   Feb  ...           3  0.276464\n",
            "17  Star Wars Ep. VII: The Force Awakens   Dec  ...           2  0.013768\n",
            "\n",
            "[4 rows x 13 columns]\n"
          ],
          "name": "stdout"
        }
      ]
    },
    {
      "cell_type": "code",
      "metadata": {
        "id": "_TarQg1Ww0_G",
        "colab_type": "code",
        "outputId": "a1bd418d-f597-4936-d62e-24554d59bfe5",
        "colab": {
          "base_uri": "https://localhost:8080/",
          "height": 250
        }
      },
      "source": [
        "data2_train.dtypes"
      ],
      "execution_count": 28,
      "outputs": [
        {
          "output_type": "execute_result",
          "data": {
            "text/plain": [
              "FullMovieName        object\n",
              "Month                object\n",
              "Day                   int64\n",
              "Year                  int64\n",
              "Budget                int64\n",
              "DomesticGross         int64\n",
              "WorldwideGross        int64\n",
              "Universe             object\n",
              "Movie                object\n",
              "polarity_rt         float64\n",
              "polarity_twitter    float64\n",
              "Month_code            int64\n",
              "runiform            float64\n",
              "dtype: object"
            ]
          },
          "metadata": {
            "tags": []
          },
          "execution_count": 28
        }
      ]
    },
    {
      "cell_type": "code",
      "metadata": {
        "id": "vqAa0Divs6IK",
        "colab_type": "code",
        "outputId": "35c37aae-8c91-4548-da53-26ef5b2eb2d3",
        "colab": {
          "base_uri": "https://localhost:8080/",
          "height": 700
        }
      },
      "source": [
        "# review results for each row\n",
        "# specify a simple model\n",
        "my_model = str('WorldwideGross ~ Budget+polarity_twitter+polarity_rt+Month+Universe')\n",
        "\n",
        "# fit the model to the training set\n",
        "train_model_fit = smf.ols(my_model, data = data2).fit()\n",
        "# summary of model fit to the training set\n",
        "print(train_model_fit.summary())"
      ],
      "execution_count": 39,
      "outputs": [
        {
          "output_type": "stream",
          "text": [
            "                            OLS Regression Results                            \n",
            "==============================================================================\n",
            "Dep. Variable:         WorldwideGross   R-squared:                       0.890\n",
            "Model:                            OLS   Adj. R-squared:                  0.561\n",
            "Method:                 Least Squares   F-statistic:                     2.705\n",
            "Date:                Mon, 17 Jun 2019   Prob (F-statistic):              0.138\n",
            "Time:                        03:54:40   Log-Likelihood:                -430.36\n",
            "No. Observations:                  21   AIC:                             892.7\n",
            "Df Residuals:                       5   BIC:                             909.4\n",
            "Df Model:                          15                                         \n",
            "Covariance Type:            nonrobust                                         \n",
            "====================================================================================\n",
            "                       coef    std err          t      P>|t|      [0.025      0.975]\n",
            "------------------------------------------------------------------------------------\n",
            "Intercept          2.12e+08   5.36e+08      0.396      0.709   -1.16e+09    1.59e+09\n",
            "Month[T.Aug]     -1.439e+08   4.77e+08     -0.302      0.775   -1.37e+09    1.08e+09\n",
            "Month[T.Dec]     -9.166e+08   6.29e+08     -1.457      0.205   -2.53e+09    7.01e+08\n",
            "Month[T.Feb]     -3.596e+08   5.13e+08     -0.701      0.515   -1.68e+09    9.59e+08\n",
            "Month[T.Jul]     -5.046e+08   4.92e+08     -1.027      0.352   -1.77e+09    7.59e+08\n",
            "Month[T.July]    -8.209e+08   4.94e+08     -1.660      0.158   -2.09e+09     4.5e+08\n",
            "Month[T.Jun]      1.679e+08   5.25e+08      0.320      0.762   -1.18e+09    1.52e+09\n",
            "Month[T.June]    -1.467e+09   6.34e+08     -2.312      0.069    -3.1e+09    1.64e+08\n",
            "Month[T.Mar]      4.438e+08   7.63e+08      0.582      0.586   -1.52e+09     2.4e+09\n",
            "Month[T.May]     -1.161e+09   3.69e+08     -3.149      0.025   -2.11e+09   -2.13e+08\n",
            "Month[T.Nov]     -5.205e+08   3.57e+08     -1.459      0.204   -1.44e+09    3.97e+08\n",
            "Universe[T.MCU]   2.708e+08   3.95e+08      0.685      0.524   -7.45e+08    1.29e+09\n",
            "Universe[T.STAR]  1.051e+09   6.42e+08      1.638      0.162   -5.99e+08     2.7e+09\n",
            "Budget               4.9710      1.408      3.530      0.017       1.351       8.591\n",
            "polarity_twitter -3.786e+09   2.58e+09     -1.465      0.203   -1.04e+10    2.86e+09\n",
            "polarity_rt       1.353e+09   1.35e+09      1.000      0.363   -2.13e+09    4.83e+09\n",
            "==============================================================================\n",
            "Omnibus:                       13.302   Durbin-Watson:                   2.139\n",
            "Prob(Omnibus):                  0.001   Jarque-Bera (JB):               13.368\n",
            "Skew:                           1.250   Prob(JB):                      0.00125\n",
            "Kurtosis:                       6.005   Cond. No.                     8.82e+09\n",
            "==============================================================================\n",
            "\n",
            "Warnings:\n",
            "[1] Standard Errors assume that the covariance matrix of the errors is correctly specified.\n",
            "[2] The condition number is large, 8.82e+09. This might indicate that there are\n",
            "strong multicollinearity or other numerical problems.\n"
          ],
          "name": "stdout"
        }
      ]
    },
    {
      "cell_type": "code",
      "metadata": {
        "id": "Xjy2b_YVkREG",
        "colab_type": "code",
        "colab": {
          "base_uri": "https://localhost:8080/",
          "height": 666
        },
        "outputId": "6a38cb52-a27b-499a-da76-a4d44fdb3d85"
      },
      "source": [
        "# review results for each row\n",
        "# specify a simple model\n",
        "my_model = str('WorldwideGross ~ Budget+polarity_twitter+polarity_rt+Month')\n",
        "\n",
        "# fit the model to the training set\n",
        "train_model_fit = smf.ols(my_model, data = data2).fit()\n",
        "# summary of model fit to the training set\n",
        "print(train_model_fit.summary())"
      ],
      "execution_count": 41,
      "outputs": [
        {
          "output_type": "stream",
          "text": [
            "                            OLS Regression Results                            \n",
            "==============================================================================\n",
            "Dep. Variable:         WorldwideGross   R-squared:                       0.817\n",
            "Model:                            OLS   Adj. R-squared:                  0.478\n",
            "Method:                 Least Squares   F-statistic:                     2.407\n",
            "Date:                Mon, 17 Jun 2019   Prob (F-statistic):              0.124\n",
            "Time:                        03:56:59   Log-Likelihood:                -435.72\n",
            "No. Observations:                  21   AIC:                             899.4\n",
            "Df Residuals:                       7   BIC:                             914.1\n",
            "Df Model:                          13                                         \n",
            "Covariance Type:            nonrobust                                         \n",
            "====================================================================================\n",
            "                       coef    std err          t      P>|t|      [0.025      0.975]\n",
            "------------------------------------------------------------------------------------\n",
            "Intercept         3.435e+08   5.75e+08      0.597      0.569   -1.02e+09     1.7e+09\n",
            "Month[T.Aug]     -2.951e+08   4.57e+08     -0.646      0.539   -1.37e+09    7.84e+08\n",
            "Month[T.Dec]     -1.822e+08   3.42e+08     -0.532      0.611   -9.92e+08    6.28e+08\n",
            "Month[T.Feb]      -3.29e+08   5.12e+08     -0.643      0.541   -1.54e+09    8.81e+08\n",
            "Month[T.Jul]     -3.725e+08   5.17e+08     -0.720      0.495    -1.6e+09    8.51e+08\n",
            "Month[T.July]     -6.27e+08   5.24e+08     -1.195      0.271   -1.87e+09    6.13e+08\n",
            "Month[T.Jun]     -1.498e+08   5.37e+08     -0.279      0.788   -1.42e+09    1.12e+09\n",
            "Month[T.June]    -9.821e+08   5.73e+08     -1.715      0.130   -2.34e+09    3.72e+08\n",
            "Month[T.Mar]     -2.071e+08   5.99e+08     -0.346      0.740   -1.62e+09    1.21e+09\n",
            "Month[T.May]     -8.796e+08   3.65e+08     -2.408      0.047   -1.74e+09   -1.57e+07\n",
            "Month[T.Nov]     -5.937e+08   3.65e+08     -1.626      0.148   -1.46e+09     2.7e+08\n",
            "Budget               4.8699      1.293      3.765      0.007       1.812       7.928\n",
            "polarity_twitter -1.814e+09   1.27e+09     -1.424      0.198   -4.83e+09     1.2e+09\n",
            "polarity_rt       7.364e+08   7.98e+08      0.923      0.387   -1.15e+09    2.62e+09\n",
            "==============================================================================\n",
            "Omnibus:                        0.932   Durbin-Watson:                   2.114\n",
            "Prob(Omnibus):                  0.627   Jarque-Bera (JB):                0.326\n",
            "Skew:                           0.303   Prob(JB):                        0.850\n",
            "Kurtosis:                       3.071   Cond. No.                     3.65e+09\n",
            "==============================================================================\n",
            "\n",
            "Warnings:\n",
            "[1] Standard Errors assume that the covariance matrix of the errors is correctly specified.\n",
            "[2] The condition number is large, 3.65e+09. This might indicate that there are\n",
            "strong multicollinearity or other numerical problems.\n"
          ],
          "name": "stdout"
        }
      ]
    },
    {
      "cell_type": "code",
      "metadata": {
        "id": "-w1U3N1WwsYt",
        "colab_type": "code",
        "outputId": "eade3328-05c3-4a74-9e29-857ea3c7deb2",
        "colab": {
          "base_uri": "https://localhost:8080/",
          "height": 650
        }
      },
      "source": [
        "# review results for each row\n",
        "# specify a simple model\n",
        "my_model = str('WorldwideGross ~ Budget+polarity_twitter+Month')\n",
        "\n",
        "# fit the model to the training set\n",
        "train_model_fit = smf.ols(my_model, data = data2).fit()\n",
        "# summary of model fit to the training set\n",
        "print(train_model_fit.summary())"
      ],
      "execution_count": 42,
      "outputs": [
        {
          "output_type": "stream",
          "text": [
            "                            OLS Regression Results                            \n",
            "==============================================================================\n",
            "Dep. Variable:         WorldwideGross   R-squared:                       0.795\n",
            "Model:                            OLS   Adj. R-squared:                  0.487\n",
            "Method:                 Least Squares   F-statistic:                     2.585\n",
            "Date:                Mon, 17 Jun 2019   Prob (F-statistic):             0.0924\n",
            "Time:                        03:56:59   Log-Likelihood:                -436.93\n",
            "No. Observations:                  21   AIC:                             899.9\n",
            "Df Residuals:                       8   BIC:                             913.4\n",
            "Df Model:                          12                                         \n",
            "Covariance Type:            nonrobust                                         \n",
            "====================================================================================\n",
            "                       coef    std err          t      P>|t|      [0.025      0.975]\n",
            "------------------------------------------------------------------------------------\n",
            "Intercept         6.425e+08   4.71e+08      1.364      0.210   -4.44e+08    1.73e+09\n",
            "Month[T.Aug]     -4.662e+08   4.13e+08     -1.128      0.292   -1.42e+09    4.87e+08\n",
            "Month[T.Dec]     -2.307e+08   3.35e+08     -0.688      0.511      -1e+09    5.42e+08\n",
            "Month[T.Feb]     -3.102e+08   5.06e+08     -0.613      0.557   -1.48e+09    8.57e+08\n",
            "Month[T.Jul]     -3.272e+08    5.1e+08     -0.641      0.539    -1.5e+09     8.5e+08\n",
            "Month[T.July]    -5.674e+08   5.16e+08     -1.100      0.303   -1.76e+09    6.22e+08\n",
            "Month[T.Jun]     -1.397e+08   5.32e+08     -0.263      0.799   -1.37e+09    1.09e+09\n",
            "Month[T.June]    -9.083e+08   5.62e+08     -1.617      0.144    -2.2e+09    3.87e+08\n",
            "Month[T.Mar]     -4.621e+08   5.26e+08     -0.878      0.406   -1.68e+09    7.52e+08\n",
            "Month[T.May]      -9.54e+08   3.53e+08     -2.703      0.027   -1.77e+09    -1.4e+08\n",
            "Month[T.Nov]     -6.128e+08   3.61e+08     -1.697      0.128   -1.45e+09     2.2e+08\n",
            "Budget               4.6452      1.258      3.691      0.006       1.743       7.547\n",
            "polarity_twitter -1.556e+09   1.23e+09     -1.263      0.242    -4.4e+09    1.28e+09\n",
            "==============================================================================\n",
            "Omnibus:                        1.957   Durbin-Watson:                   2.329\n",
            "Prob(Omnibus):                  0.376   Jarque-Bera (JB):                1.310\n",
            "Skew:                           0.607   Prob(JB):                        0.520\n",
            "Kurtosis:                       2.848   Cond. No.                     3.51e+09\n",
            "==============================================================================\n",
            "\n",
            "Warnings:\n",
            "[1] Standard Errors assume that the covariance matrix of the errors is correctly specified.\n",
            "[2] The condition number is large, 3.51e+09. This might indicate that there are\n",
            "strong multicollinearity or other numerical problems.\n"
          ],
          "name": "stdout"
        }
      ]
    },
    {
      "cell_type": "code",
      "metadata": {
        "id": "U5U6UqSzs6IO",
        "colab_type": "code",
        "outputId": "5976a8bb-97b6-41a6-9067-ef59e82807dc",
        "colab": {
          "base_uri": "https://localhost:8080/",
          "height": 1470
        }
      },
      "source": [
        "# review results by variables\n",
        "# specify a simple model\n",
        "my_model = str('WorldwideGross ~ C(DomesticGross) + C(Budget) + C(polarity_twitter)')\n",
        "\n",
        "# fit the model to the training set\n",
        "train_model_fit = smf.ols(my_model, data = data2).fit()\n",
        "# summary of model fit to the training set\n",
        "print(train_model_fit.summary())"
      ],
      "execution_count": 43,
      "outputs": [
        {
          "output_type": "stream",
          "text": [
            "                            OLS Regression Results                            \n",
            "==============================================================================\n",
            "Dep. Variable:         WorldwideGross   R-squared:                       1.000\n",
            "Model:                            OLS   Adj. R-squared:                    nan\n",
            "Method:                 Least Squares   F-statistic:                     0.000\n",
            "Date:                Mon, 17 Jun 2019   Prob (F-statistic):                nan\n",
            "Time:                        03:56:59   Log-Likelihood:                 253.97\n",
            "No. Observations:                  21   AIC:                            -465.9\n",
            "Df Residuals:                       0   BIC:                            -444.0\n",
            "Df Model:                          20                                         \n",
            "Covariance Type:            nonrobust                                         \n",
            "===============================================================================================================\n",
            "                                                  coef    std err          t      P>|t|      [0.025      0.975]\n",
            "---------------------------------------------------------------------------------------------------------------\n",
            "Intercept                                    8.709e+08        inf          0        nan         nan         nan\n",
            "C(DomesticGross)[T.180202163]               -1.758e+08        inf         -0        nan         nan         nan\n",
            "C(DomesticGross)[T.213767512]               -2.192e+08        inf         -0        nan         nan         nan\n",
            "C(DomesticGross)[T.216648740]               -8.275e+07        inf         -0        nan         nan         nan\n",
            "C(DomesticGross)[T.228977297]               -1.383e+08        inf         -0        nan         nan         nan\n",
            "C(DomesticGross)[T.232641920]               -6.446e+07        inf         -0        nan         nan         nan\n",
            "C(DomesticGross)[T.315059289]               -6.215e+07        inf         -0        nan         nan         nan\n",
            "C(DomesticGross)[T.325100054]               -4.797e+07        inf         -0        nan         nan         nan\n",
            "C(DomesticGross)[T.330360194]                1.846e+07        inf          0        nan         nan         nan\n",
            "C(DomesticGross)[T.333172112]               -3.329e+07        inf         -0        nan         nan         nan\n",
            "C(DomesticGross)[T.334201140]                1.908e+07        inf          0        nan         nan         nan\n",
            "C(DomesticGross)[T.335061807]                1.695e+08        inf          0        nan         nan         nan\n",
            "C(DomesticGross)[T.408084349]                 1.61e+08        inf          0        nan         nan         nan\n",
            "C(DomesticGross)[T.412563408]               -1.797e+07        inf         -0        nan         nan         nan\n",
            "C(DomesticGross)[T.459005868]                1.782e+08        inf          0        nan         nan         nan\n",
            "C(DomesticGross)[T.530851601]                 4.62e+06        inf          0        nan         nan         nan\n",
            "C(DomesticGross)[T.532177324]                6.017e+07        inf          0        nan         nan         nan\n",
            "C(DomesticGross)[T.620181382]                    2e+08        inf          0        nan         nan         nan\n",
            "C(DomesticGross)[T.678815482]                3.925e+08        inf          0        nan         nan         nan\n",
            "C(DomesticGross)[T.827811359]                6.213e+08        inf          0        nan         nan         nan\n",
            "C(DomesticGross)[T.936662225]                3.959e+08        inf          0        nan         nan         nan\n",
            "C(Budget)[T.150000000]                      -1.797e+07        inf         -0        nan         nan         nan\n",
            "C(Budget)[T.160000000]                      -1.758e+08        inf         -0        nan         nan         nan\n",
            "C(Budget)[T.162000000]                      -8.275e+07        inf         -0        nan         nan         nan\n",
            "C(Budget)[T.165000000]                      -6.446e+07        inf         -0        nan         nan         nan\n",
            "C(Budget)[T.170000000]                      -3.329e+07        inf         -0        nan         nan         nan\n",
            "C(Budget)[T.175000000]                      -2.888e+07        inf         -0        nan         nan         nan\n",
            "C(Budget)[T.180000000]                       1.073e+08        inf          0        nan         nan         nan\n",
            "C(Budget)[T.200000000]                       6.479e+07        inf          0        nan         nan         nan\n",
            "C(Budget)[T.250000000]                      -3.967e+07        inf         -0        nan         nan         nan\n",
            "C(Budget)[T.300000000]                       6.165e+07        inf          0        nan         nan         nan\n",
            "C(Budget)[T.306000000]                       3.959e+08        inf          0        nan         nan         nan\n",
            "C(Budget)[T.365000000]                       6.213e+08        inf          0        nan         nan         nan\n",
            "C(Budget)[T.385000000]                       3.925e+08        inf          0        nan         nan         nan\n",
            "C(Budget)[T.495000000]                       1.782e+08        inf          0        nan         nan         nan\n",
            "C(polarity_twitter)[T.0.015876666666666654]   1.61e+08        inf          0        nan         nan         nan\n",
            "C(polarity_twitter)[T.0.0395678062678063]   -4.797e+07        inf         -0        nan         nan         nan\n",
            "C(polarity_twitter)[T.0.051062352941176406]  6.017e+07        inf          0        nan         nan         nan\n",
            "C(polarity_twitter)[T.0.08962094933820361]   6.213e+08        inf          0        nan         nan         nan\n",
            "C(polarity_twitter)[T.0.13178127208480558]  -8.275e+07        inf         -0        nan         nan         nan\n",
            "C(polarity_twitter)[T.0.13938808154730897]   3.925e+08        inf          0        nan         nan         nan\n",
            "C(polarity_twitter)[T.0.14570833333333347]   1.782e+08        inf          0        nan         nan         nan\n",
            "C(polarity_twitter)[T.0.14733407275953994]       2e+08        inf          0        nan         nan         nan\n",
            "C(polarity_twitter)[T.0.15945469135802415]   1.908e+07        inf          0        nan         nan         nan\n",
            "C(polarity_twitter)[T.0.16191640138408345]  -6.446e+07        inf         -0        nan         nan         nan\n",
            "C(polarity_twitter)[T.0.16797465091299682]  -6.215e+07        inf         -0        nan         nan         nan\n",
            "C(polarity_twitter)[T.0.20337910649819455]    4.62e+06        inf          0        nan         nan         nan\n",
            "C(polarity_twitter)[T.0.23511868758915913]   3.959e+08        inf          0        nan         nan         nan\n",
            "C(polarity_twitter)[T.0.24011456247981902]  -5.079e+08        inf         -0        nan         nan         nan\n",
            "C(polarity_twitter)[T.0.2420304379038065]   -3.329e+07        inf         -0        nan         nan         nan\n",
            "C(polarity_twitter)[T.0.2459414293690678]   -1.797e+07        inf         -0        nan         nan         nan\n",
            "C(polarity_twitter)[T.0.24721250479478535]  -1.383e+08        inf         -0        nan         nan         nan\n",
            "C(polarity_twitter)[T.0.30440727902946274]   1.846e+07        inf          0        nan         nan         nan\n",
            "C(polarity_twitter)[T.0.3114]               -2.192e+08        inf         -0        nan         nan         nan\n",
            "==============================================================================\n",
            "Omnibus:                        0.852   Durbin-Watson:                   0.898\n",
            "Prob(Omnibus):                  0.653   Jarque-Bera (JB):                0.852\n",
            "Skew:                          -0.363   Prob(JB):                        0.653\n",
            "Kurtosis:                       2.332   Cond. No.                         4.73\n",
            "==============================================================================\n",
            "\n",
            "Warnings:\n",
            "[1] Standard Errors assume that the covariance matrix of the errors is correctly specified.\n",
            "[2] The input rank is higher than the number of observations.\n"
          ],
          "name": "stdout"
        },
        {
          "output_type": "stream",
          "text": [
            "/usr/local/lib/python3.6/dist-packages/statsmodels/regression/linear_model.py:1549: RuntimeWarning: divide by zero encountered in true_divide\n",
            "  return 1 - (np.divide(self.nobs - self.k_constant, self.df_resid)\n",
            "/usr/local/lib/python3.6/dist-packages/statsmodels/regression/linear_model.py:1550: RuntimeWarning: invalid value encountered in double_scalars\n",
            "  * (1 - self.rsquared))\n",
            "/usr/local/lib/python3.6/dist-packages/statsmodels/regression/linear_model.py:1558: RuntimeWarning: divide by zero encountered in double_scalars\n",
            "  return self.ssr/self.df_resid\n",
            "/usr/local/lib/python3.6/dist-packages/statsmodels/regression/linear_model.py:1510: RuntimeWarning: divide by zero encountered in double_scalars\n",
            "  return np.dot(wresid, wresid) / self.df_resid\n"
          ],
          "name": "stderr"
        }
      ]
    },
    {
      "cell_type": "markdown",
      "metadata": {
        "id": "KJP8D8Zes6IQ",
        "colab_type": "text"
      },
      "source": [
        "**Poor model result**"
      ]
    },
    {
      "cell_type": "markdown",
      "metadata": {
        "id": "zGl-JEEXs6IQ",
        "colab_type": "text"
      },
      "source": [
        "**Model 2 - Mixed Linear Model Regression**"
      ]
    },
    {
      "cell_type": "code",
      "metadata": {
        "id": "KdOhqyvIs6IQ",
        "colab_type": "code",
        "outputId": "5b0b142d-4c44-4639-f920-4471ad513962",
        "colab": {
          "base_uri": "https://localhost:8080/",
          "height": 316
        }
      },
      "source": [
        "import statsmodels.formula.api as smf\n",
        "# include conference_code as a classifier\n",
        "model2 = smf.mixedlm(\"WorldwideGross ~  Budget + polarity_twitter + polarity_rt\", data2, groups=data2[\"Month_code\"])\n",
        "\n",
        "model2f = model2.fit()\n",
        "\n",
        "print(model2f.summary())"
      ],
      "execution_count": 44,
      "outputs": [
        {
          "output_type": "stream",
          "text": [
            "                             Mixed Linear Model Regression Results\n",
            "================================================================================================\n",
            "Model:                     MixedLM          Dependent Variable:          WorldwideGross         \n",
            "No. Observations:          21               Method:                      REML                   \n",
            "No. Groups:                11               Scale:                       137270632355567616.0000\n",
            "Min. group size:           1                Likelihood:                  -381.9018              \n",
            "Max. group size:           4                Converged:                   Yes                    \n",
            "Mean group size:           1.9                                                                  \n",
            "------------------------------------------------------------------------------------------------\n",
            "                         Coef.            Std.Err.     z    P>|z|      [0.025         0.975]    \n",
            "------------------------------------------------------------------------------------------------\n",
            "Intercept                -66592652.218 359434006.747 -0.185 0.853  -771070360.262  637885055.826\n",
            "Budget                           4.713         0.980  4.811 0.000           2.793          6.633\n",
            "polarity_twitter       -1277784175.460 885947252.913 -1.442 0.149 -3014208883.371  458640532.452\n",
            "polarity_rt              595556077.341 560210307.980  1.063 0.288  -502435950.068 1693548104.749\n",
            "Group Var        46725215282269752.000 158590143.165                                            \n",
            "================================================================================================\n",
            "\n"
          ],
          "name": "stdout"
        }
      ]
    },
    {
      "cell_type": "code",
      "metadata": {
        "id": "XNIlxObHxddj",
        "colab_type": "code",
        "outputId": "95ccd57f-c3af-4599-9f1e-471ccce6e867",
        "colab": {
          "base_uri": "https://localhost:8080/",
          "height": 316
        }
      },
      "source": [
        "import statsmodels.formula.api as smf\n",
        "# include conference_code as a classifier\n",
        "model2 = smf.mixedlm(\"WorldwideGross ~  Budget + polarity_twitter + polarity_rt\", data2, groups=data2[\"Movie\"])\n",
        "\n",
        "model2f = model2.fit()\n",
        "\n",
        "print(model2f.summary())"
      ],
      "execution_count": 45,
      "outputs": [
        {
          "output_type": "stream",
          "text": [
            "                              Mixed Linear Model Regression Results\n",
            "=================================================================================================\n",
            "Model:                      MixedLM          Dependent Variable:          WorldwideGross         \n",
            "No. Observations:           21               Method:                      REML                   \n",
            "No. Groups:                 20               Scale:                       144480988312833792.0000\n",
            "Min. group size:            1                Likelihood:                  -382.5213              \n",
            "Max. group size:            2                Converged:                   Yes                    \n",
            "Mean group size:            1.1                                                                  \n",
            "-------------------------------------------------------------------------------------------------\n",
            "                         Coef.            Std.Err.      z    P>|z|      [0.025         0.975]    \n",
            "-------------------------------------------------------------------------------------------------\n",
            "Intercept                -12103215.958  397330718.984 -0.030 0.976  -790857115.119  766650683.202\n",
            "Budget                           4.590          1.062  4.323 0.000           2.509          6.672\n",
            "polarity_twitter       -1425518093.829 1064270075.302 -1.339 0.180 -3511449111.244  660412923.586\n",
            "polarity_rt              633915854.208  623213490.158  1.017 0.309  -587560141.181 1855391849.598\n",
            "Group Var        46588071305873792.000  680539384.466                                            \n",
            "=================================================================================================\n",
            "\n"
          ],
          "name": "stdout"
        }
      ]
    },
    {
      "cell_type": "markdown",
      "metadata": {
        "id": "C6iVAj5As6IS",
        "colab_type": "text"
      },
      "source": [
        "Model: WorldwideGross = 2.638 * DomesticGross - 0.513 * Budget - 570110841.325 * polarity_twitter - 184143979.376 * polarity_rt + 195203030.258"
      ]
    },
    {
      "cell_type": "code",
      "metadata": {
        "id": "VbuVwbTts6IT",
        "colab_type": "code",
        "outputId": "3eded504-95e9-4f90-fac5-e46a838e2f57",
        "colab": {
          "base_uri": "https://localhost:8080/",
          "height": 316
        }
      },
      "source": [
        "import statsmodels.formula.api as smf\n",
        "# include conference_code as a classifier\n",
        "model2 = smf.mixedlm(\"DomesticGross ~ Budget + polarity_twitter + polarity_rt\", data2, groups=data2[\"Month_code\"])\n",
        "\n",
        "model2f = model2.fit()\n",
        "\n",
        "print(model2f.summary())"
      ],
      "execution_count": 46,
      "outputs": [
        {
          "output_type": "stream",
          "text": [
            "                            Mixed Linear Model Regression Results\n",
            "=============================================================================================\n",
            "Model:                     MixedLM         Dependent Variable:         DomesticGross         \n",
            "No. Observations:          21              Method:                     REML                  \n",
            "No. Groups:                11              Scale:                      23831750489900208.0000\n",
            "Min. group size:           1               Likelihood:                 -367.2586             \n",
            "Max. group size:           4               Converged:                  Yes                   \n",
            "Mean group size:           1.9                                                               \n",
            "---------------------------------------------------------------------------------------------\n",
            "                        Coef.            Std.Err.     z    P>|z|     [0.025         0.975]   \n",
            "---------------------------------------------------------------------------------------------\n",
            "Intercept                55415571.934 151630649.295  0.365 0.715 -241775039.637 352606183.506\n",
            "Budget                          1.418         0.413  3.437 0.001          0.609         2.227\n",
            "polarity_twitter        -53668161.874 373379646.439 -0.144 0.886 -785478821.454 678142497.706\n",
            "polarity_rt              74480008.216 235166907.356  0.317 0.751 -386438660.558 535398676.990\n",
            "Group Var        9319383918757490.000  70699694.347                                          \n",
            "=============================================================================================\n",
            "\n"
          ],
          "name": "stdout"
        }
      ]
    },
    {
      "cell_type": "markdown",
      "metadata": {
        "id": "79kSlTwas6IV",
        "colab_type": "text"
      },
      "source": [
        "Model: DomesticGross = 0.128 * Budget - 13196882.574 * polarity_twitter - 179606555.662 * polarity_rt + 406603166.043"
      ]
    }
  ]
}